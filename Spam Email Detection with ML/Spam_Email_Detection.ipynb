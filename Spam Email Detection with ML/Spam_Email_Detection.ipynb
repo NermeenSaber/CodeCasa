{
  "nbformat": 4,
  "nbformat_minor": 0,
  "metadata": {
    "colab": {
      "provenance": [],
      "toc_visible": true
    },
    "kernelspec": {
      "name": "python3",
      "display_name": "Python 3"
    },
    "language_info": {
      "name": "python"
    }
  },
  "cells": [
    {
      "cell_type": "code",
      "execution_count": null,
      "metadata": {
        "colab": {
          "base_uri": "https://localhost:8080/"
        },
        "id": "BpVmjeezlwBi",
        "outputId": "7f513933-0fae-4344-82de-fdd640a0335c"
      },
      "outputs": [
        {
          "output_type": "stream",
          "name": "stdout",
          "text": [
            "Drive already mounted at /content/drive; to attempt to forcibly remount, call drive.mount(\"/content/drive\", force_remount=True).\n"
          ]
        }
      ],
      "source": [
        "from google.colab import drive\n",
        "drive.mount('/content/drive')"
      ]
    },
    {
      "cell_type": "code",
      "source": [
        "import os\n",
        "os.environ['KAGGLE_CONFIG_DIR'] = \"/content/drive/MyDrive/Kaggle\""
      ],
      "metadata": {
        "id": "lIZ8oR1pmF8P"
      },
      "execution_count": null,
      "outputs": []
    },
    {
      "cell_type": "code",
      "source": [
        "!kaggle datasets download -d uciml/sms-spam-collection-dataset --unzip"
      ],
      "metadata": {
        "colab": {
          "base_uri": "https://localhost:8080/"
        },
        "id": "pItXjr_xmnoO",
        "outputId": "ca03d799-ee97-4b95-adbe-309c749d2123"
      },
      "execution_count": null,
      "outputs": [
        {
          "output_type": "stream",
          "name": "stdout",
          "text": [
            "Downloading sms-spam-collection-dataset.zip to /content\n",
            "\r  0% 0.00/211k [00:00<?, ?B/s]\n",
            "\r100% 211k/211k [00:00<00:00, 44.2MB/s]\n"
          ]
        }
      ]
    },
    {
      "cell_type": "code",
      "source": [
        "import re\n",
        "import pandas as pd\n",
        "import numpy as np\n",
        "import matplotlib.pyplot as plt\n",
        "import string\n",
        "import nltk\n",
        "from nltk.corpus import stopwords\n",
        "from sklearn import preprocessing\n"
      ],
      "metadata": {
        "id": "Utw5Xz67oNoi"
      },
      "execution_count": null,
      "outputs": []
    },
    {
      "cell_type": "markdown",
      "source": [
        "#Loading the dataset"
      ],
      "metadata": {
        "id": "SCnNaYw0nXEe"
      }
    },
    {
      "cell_type": "code",
      "source": [
        "\n",
        "# Loading the dataset\n",
        "df = pd.read_csv(\"/content/spam.csv\",encoding='latin-1')\n"
      ],
      "metadata": {
        "id": "VmkRh3eJqCz8"
      },
      "execution_count": null,
      "outputs": []
    },
    {
      "cell_type": "code",
      "source": [
        "# Displaying the first few rows of the dataset\n",
        "df.head()\n"
      ],
      "metadata": {
        "colab": {
          "base_uri": "https://localhost:8080/",
          "height": 206
        },
        "id": "kG7pGV6kqwzp",
        "outputId": "dea1c3bf-3824-4c61-e734-633a035aa2fa"
      },
      "execution_count": null,
      "outputs": [
        {
          "output_type": "execute_result",
          "data": {
            "text/plain": [
              "     v1                                                 v2 Unnamed: 2  \\\n",
              "0   ham  Go until jurong point, crazy.. Available only ...        NaN   \n",
              "1   ham                      Ok lar... Joking wif u oni...        NaN   \n",
              "2  spam  Free entry in 2 a wkly comp to win FA Cup fina...        NaN   \n",
              "3   ham  U dun say so early hor... U c already then say...        NaN   \n",
              "4   ham  Nah I don't think he goes to usf, he lives aro...        NaN   \n",
              "\n",
              "  Unnamed: 3 Unnamed: 4  \n",
              "0        NaN        NaN  \n",
              "1        NaN        NaN  \n",
              "2        NaN        NaN  \n",
              "3        NaN        NaN  \n",
              "4        NaN        NaN  "
            ],
            "text/html": [
              "\n",
              "  <div id=\"df-82969fe4-edd3-447d-9adc-0c3753f504c5\" class=\"colab-df-container\">\n",
              "    <div>\n",
              "<style scoped>\n",
              "    .dataframe tbody tr th:only-of-type {\n",
              "        vertical-align: middle;\n",
              "    }\n",
              "\n",
              "    .dataframe tbody tr th {\n",
              "        vertical-align: top;\n",
              "    }\n",
              "\n",
              "    .dataframe thead th {\n",
              "        text-align: right;\n",
              "    }\n",
              "</style>\n",
              "<table border=\"1\" class=\"dataframe\">\n",
              "  <thead>\n",
              "    <tr style=\"text-align: right;\">\n",
              "      <th></th>\n",
              "      <th>v1</th>\n",
              "      <th>v2</th>\n",
              "      <th>Unnamed: 2</th>\n",
              "      <th>Unnamed: 3</th>\n",
              "      <th>Unnamed: 4</th>\n",
              "    </tr>\n",
              "  </thead>\n",
              "  <tbody>\n",
              "    <tr>\n",
              "      <th>0</th>\n",
              "      <td>ham</td>\n",
              "      <td>Go until jurong point, crazy.. Available only ...</td>\n",
              "      <td>NaN</td>\n",
              "      <td>NaN</td>\n",
              "      <td>NaN</td>\n",
              "    </tr>\n",
              "    <tr>\n",
              "      <th>1</th>\n",
              "      <td>ham</td>\n",
              "      <td>Ok lar... Joking wif u oni...</td>\n",
              "      <td>NaN</td>\n",
              "      <td>NaN</td>\n",
              "      <td>NaN</td>\n",
              "    </tr>\n",
              "    <tr>\n",
              "      <th>2</th>\n",
              "      <td>spam</td>\n",
              "      <td>Free entry in 2 a wkly comp to win FA Cup fina...</td>\n",
              "      <td>NaN</td>\n",
              "      <td>NaN</td>\n",
              "      <td>NaN</td>\n",
              "    </tr>\n",
              "    <tr>\n",
              "      <th>3</th>\n",
              "      <td>ham</td>\n",
              "      <td>U dun say so early hor... U c already then say...</td>\n",
              "      <td>NaN</td>\n",
              "      <td>NaN</td>\n",
              "      <td>NaN</td>\n",
              "    </tr>\n",
              "    <tr>\n",
              "      <th>4</th>\n",
              "      <td>ham</td>\n",
              "      <td>Nah I don't think he goes to usf, he lives aro...</td>\n",
              "      <td>NaN</td>\n",
              "      <td>NaN</td>\n",
              "      <td>NaN</td>\n",
              "    </tr>\n",
              "  </tbody>\n",
              "</table>\n",
              "</div>\n",
              "    <div class=\"colab-df-buttons\">\n",
              "\n",
              "  <div class=\"colab-df-container\">\n",
              "    <button class=\"colab-df-convert\" onclick=\"convertToInteractive('df-82969fe4-edd3-447d-9adc-0c3753f504c5')\"\n",
              "            title=\"Convert this dataframe to an interactive table.\"\n",
              "            style=\"display:none;\">\n",
              "\n",
              "  <svg xmlns=\"http://www.w3.org/2000/svg\" height=\"24px\" viewBox=\"0 -960 960 960\">\n",
              "    <path d=\"M120-120v-720h720v720H120Zm60-500h600v-160H180v160Zm220 220h160v-160H400v160Zm0 220h160v-160H400v160ZM180-400h160v-160H180v160Zm440 0h160v-160H620v160ZM180-180h160v-160H180v160Zm440 0h160v-160H620v160Z\"/>\n",
              "  </svg>\n",
              "    </button>\n",
              "\n",
              "  <style>\n",
              "    .colab-df-container {\n",
              "      display:flex;\n",
              "      gap: 12px;\n",
              "    }\n",
              "\n",
              "    .colab-df-convert {\n",
              "      background-color: #E8F0FE;\n",
              "      border: none;\n",
              "      border-radius: 50%;\n",
              "      cursor: pointer;\n",
              "      display: none;\n",
              "      fill: #1967D2;\n",
              "      height: 32px;\n",
              "      padding: 0 0 0 0;\n",
              "      width: 32px;\n",
              "    }\n",
              "\n",
              "    .colab-df-convert:hover {\n",
              "      background-color: #E2EBFA;\n",
              "      box-shadow: 0px 1px 2px rgba(60, 64, 67, 0.3), 0px 1px 3px 1px rgba(60, 64, 67, 0.15);\n",
              "      fill: #174EA6;\n",
              "    }\n",
              "\n",
              "    .colab-df-buttons div {\n",
              "      margin-bottom: 4px;\n",
              "    }\n",
              "\n",
              "    [theme=dark] .colab-df-convert {\n",
              "      background-color: #3B4455;\n",
              "      fill: #D2E3FC;\n",
              "    }\n",
              "\n",
              "    [theme=dark] .colab-df-convert:hover {\n",
              "      background-color: #434B5C;\n",
              "      box-shadow: 0px 1px 3px 1px rgba(0, 0, 0, 0.15);\n",
              "      filter: drop-shadow(0px 1px 2px rgba(0, 0, 0, 0.3));\n",
              "      fill: #FFFFFF;\n",
              "    }\n",
              "  </style>\n",
              "\n",
              "    <script>\n",
              "      const buttonEl =\n",
              "        document.querySelector('#df-82969fe4-edd3-447d-9adc-0c3753f504c5 button.colab-df-convert');\n",
              "      buttonEl.style.display =\n",
              "        google.colab.kernel.accessAllowed ? 'block' : 'none';\n",
              "\n",
              "      async function convertToInteractive(key) {\n",
              "        const element = document.querySelector('#df-82969fe4-edd3-447d-9adc-0c3753f504c5');\n",
              "        const dataTable =\n",
              "          await google.colab.kernel.invokeFunction('convertToInteractive',\n",
              "                                                    [key], {});\n",
              "        if (!dataTable) return;\n",
              "\n",
              "        const docLinkHtml = 'Like what you see? Visit the ' +\n",
              "          '<a target=\"_blank\" href=https://colab.research.google.com/notebooks/data_table.ipynb>data table notebook</a>'\n",
              "          + ' to learn more about interactive tables.';\n",
              "        element.innerHTML = '';\n",
              "        dataTable['output_type'] = 'display_data';\n",
              "        await google.colab.output.renderOutput(dataTable, element);\n",
              "        const docLink = document.createElement('div');\n",
              "        docLink.innerHTML = docLinkHtml;\n",
              "        element.appendChild(docLink);\n",
              "      }\n",
              "    </script>\n",
              "  </div>\n",
              "\n",
              "\n",
              "<div id=\"df-5ee9751a-24c8-4516-8684-8190ff010f4f\">\n",
              "  <button class=\"colab-df-quickchart\" onclick=\"quickchart('df-5ee9751a-24c8-4516-8684-8190ff010f4f')\"\n",
              "            title=\"Suggest charts.\"\n",
              "            style=\"display:none;\">\n",
              "\n",
              "<svg xmlns=\"http://www.w3.org/2000/svg\" height=\"24px\"viewBox=\"0 0 24 24\"\n",
              "     width=\"24px\">\n",
              "    <g>\n",
              "        <path d=\"M19 3H5c-1.1 0-2 .9-2 2v14c0 1.1.9 2 2 2h14c1.1 0 2-.9 2-2V5c0-1.1-.9-2-2-2zM9 17H7v-7h2v7zm4 0h-2V7h2v10zm4 0h-2v-4h2v4z\"/>\n",
              "    </g>\n",
              "</svg>\n",
              "  </button>\n",
              "\n",
              "<style>\n",
              "  .colab-df-quickchart {\n",
              "      --bg-color: #E8F0FE;\n",
              "      --fill-color: #1967D2;\n",
              "      --hover-bg-color: #E2EBFA;\n",
              "      --hover-fill-color: #174EA6;\n",
              "      --disabled-fill-color: #AAA;\n",
              "      --disabled-bg-color: #DDD;\n",
              "  }\n",
              "\n",
              "  [theme=dark] .colab-df-quickchart {\n",
              "      --bg-color: #3B4455;\n",
              "      --fill-color: #D2E3FC;\n",
              "      --hover-bg-color: #434B5C;\n",
              "      --hover-fill-color: #FFFFFF;\n",
              "      --disabled-bg-color: #3B4455;\n",
              "      --disabled-fill-color: #666;\n",
              "  }\n",
              "\n",
              "  .colab-df-quickchart {\n",
              "    background-color: var(--bg-color);\n",
              "    border: none;\n",
              "    border-radius: 50%;\n",
              "    cursor: pointer;\n",
              "    display: none;\n",
              "    fill: var(--fill-color);\n",
              "    height: 32px;\n",
              "    padding: 0;\n",
              "    width: 32px;\n",
              "  }\n",
              "\n",
              "  .colab-df-quickchart:hover {\n",
              "    background-color: var(--hover-bg-color);\n",
              "    box-shadow: 0 1px 2px rgba(60, 64, 67, 0.3), 0 1px 3px 1px rgba(60, 64, 67, 0.15);\n",
              "    fill: var(--button-hover-fill-color);\n",
              "  }\n",
              "\n",
              "  .colab-df-quickchart-complete:disabled,\n",
              "  .colab-df-quickchart-complete:disabled:hover {\n",
              "    background-color: var(--disabled-bg-color);\n",
              "    fill: var(--disabled-fill-color);\n",
              "    box-shadow: none;\n",
              "  }\n",
              "\n",
              "  .colab-df-spinner {\n",
              "    border: 2px solid var(--fill-color);\n",
              "    border-color: transparent;\n",
              "    border-bottom-color: var(--fill-color);\n",
              "    animation:\n",
              "      spin 1s steps(1) infinite;\n",
              "  }\n",
              "\n",
              "  @keyframes spin {\n",
              "    0% {\n",
              "      border-color: transparent;\n",
              "      border-bottom-color: var(--fill-color);\n",
              "      border-left-color: var(--fill-color);\n",
              "    }\n",
              "    20% {\n",
              "      border-color: transparent;\n",
              "      border-left-color: var(--fill-color);\n",
              "      border-top-color: var(--fill-color);\n",
              "    }\n",
              "    30% {\n",
              "      border-color: transparent;\n",
              "      border-left-color: var(--fill-color);\n",
              "      border-top-color: var(--fill-color);\n",
              "      border-right-color: var(--fill-color);\n",
              "    }\n",
              "    40% {\n",
              "      border-color: transparent;\n",
              "      border-right-color: var(--fill-color);\n",
              "      border-top-color: var(--fill-color);\n",
              "    }\n",
              "    60% {\n",
              "      border-color: transparent;\n",
              "      border-right-color: var(--fill-color);\n",
              "    }\n",
              "    80% {\n",
              "      border-color: transparent;\n",
              "      border-right-color: var(--fill-color);\n",
              "      border-bottom-color: var(--fill-color);\n",
              "    }\n",
              "    90% {\n",
              "      border-color: transparent;\n",
              "      border-bottom-color: var(--fill-color);\n",
              "    }\n",
              "  }\n",
              "</style>\n",
              "\n",
              "  <script>\n",
              "    async function quickchart(key) {\n",
              "      const quickchartButtonEl =\n",
              "        document.querySelector('#' + key + ' button');\n",
              "      quickchartButtonEl.disabled = true;  // To prevent multiple clicks.\n",
              "      quickchartButtonEl.classList.add('colab-df-spinner');\n",
              "      try {\n",
              "        const charts = await google.colab.kernel.invokeFunction(\n",
              "            'suggestCharts', [key], {});\n",
              "      } catch (error) {\n",
              "        console.error('Error during call to suggestCharts:', error);\n",
              "      }\n",
              "      quickchartButtonEl.classList.remove('colab-df-spinner');\n",
              "      quickchartButtonEl.classList.add('colab-df-quickchart-complete');\n",
              "    }\n",
              "    (() => {\n",
              "      let quickchartButtonEl =\n",
              "        document.querySelector('#df-5ee9751a-24c8-4516-8684-8190ff010f4f button');\n",
              "      quickchartButtonEl.style.display =\n",
              "        google.colab.kernel.accessAllowed ? 'block' : 'none';\n",
              "    })();\n",
              "  </script>\n",
              "</div>\n",
              "    </div>\n",
              "  </div>\n"
            ]
          },
          "metadata": {},
          "execution_count": 7
        }
      ]
    },
    {
      "cell_type": "markdown",
      "source": [
        "99% of records in the last 3 columns are null values so i will drop them  "
      ],
      "metadata": {
        "id": "Dav7ozQEu8eO"
      }
    },
    {
      "cell_type": "code",
      "source": [
        "null_val2 = df['Unnamed: 2'].isnull().sum()\n",
        "print((null_val2/len(df))*100)\n",
        "null_val3 = df['Unnamed: 3'].isnull().sum()\n",
        "print((null_val3/len(df))*100)\n",
        "null_val4 = df['Unnamed: 4'].isnull().sum()\n",
        "print((null_val4/len(df))*100)"
      ],
      "metadata": {
        "colab": {
          "base_uri": "https://localhost:8080/"
        },
        "id": "Jn67ak44vLfI",
        "outputId": "c318a4a4-97d2-4d03-da00-986089171200"
      },
      "execution_count": null,
      "outputs": [
        {
          "output_type": "stream",
          "name": "stdout",
          "text": [
            "99.10265613783201\n",
            "99.78463747307968\n",
            "99.89231873653985\n"
          ]
        }
      ]
    },
    {
      "cell_type": "code",
      "source": [
        "# 'When inplace=True, the drop() method removes the specified columns\n",
        "#  from the DataFrame and updates the DataFrame\n",
        "#  in memory without creating a new DataFrame'\n",
        "droped_columns = ['Unnamed: 2','Unnamed: 3', 'Unnamed: 4' ]\n",
        "df.drop(columns=droped_columns, inplace=True)"
      ],
      "metadata": {
        "id": "yscymDIkrMZz"
      },
      "execution_count": null,
      "outputs": []
    },
    {
      "cell_type": "code",
      "source": [
        "df.head()"
      ],
      "metadata": {
        "colab": {
          "base_uri": "https://localhost:8080/",
          "height": 206
        },
        "id": "JfMYZvTgwPBw",
        "outputId": "4396d921-a34a-4e6a-ea87-a328a0206be7"
      },
      "execution_count": null,
      "outputs": [
        {
          "output_type": "execute_result",
          "data": {
            "text/plain": [
              "     v1                                                 v2\n",
              "0   ham  Go until jurong point, crazy.. Available only ...\n",
              "1   ham                      Ok lar... Joking wif u oni...\n",
              "2  spam  Free entry in 2 a wkly comp to win FA Cup fina...\n",
              "3   ham  U dun say so early hor... U c already then say...\n",
              "4   ham  Nah I don't think he goes to usf, he lives aro..."
            ],
            "text/html": [
              "\n",
              "  <div id=\"df-8206c057-6e1b-4b09-a107-e2108f68663c\" class=\"colab-df-container\">\n",
              "    <div>\n",
              "<style scoped>\n",
              "    .dataframe tbody tr th:only-of-type {\n",
              "        vertical-align: middle;\n",
              "    }\n",
              "\n",
              "    .dataframe tbody tr th {\n",
              "        vertical-align: top;\n",
              "    }\n",
              "\n",
              "    .dataframe thead th {\n",
              "        text-align: right;\n",
              "    }\n",
              "</style>\n",
              "<table border=\"1\" class=\"dataframe\">\n",
              "  <thead>\n",
              "    <tr style=\"text-align: right;\">\n",
              "      <th></th>\n",
              "      <th>v1</th>\n",
              "      <th>v2</th>\n",
              "    </tr>\n",
              "  </thead>\n",
              "  <tbody>\n",
              "    <tr>\n",
              "      <th>0</th>\n",
              "      <td>ham</td>\n",
              "      <td>Go until jurong point, crazy.. Available only ...</td>\n",
              "    </tr>\n",
              "    <tr>\n",
              "      <th>1</th>\n",
              "      <td>ham</td>\n",
              "      <td>Ok lar... Joking wif u oni...</td>\n",
              "    </tr>\n",
              "    <tr>\n",
              "      <th>2</th>\n",
              "      <td>spam</td>\n",
              "      <td>Free entry in 2 a wkly comp to win FA Cup fina...</td>\n",
              "    </tr>\n",
              "    <tr>\n",
              "      <th>3</th>\n",
              "      <td>ham</td>\n",
              "      <td>U dun say so early hor... U c already then say...</td>\n",
              "    </tr>\n",
              "    <tr>\n",
              "      <th>4</th>\n",
              "      <td>ham</td>\n",
              "      <td>Nah I don't think he goes to usf, he lives aro...</td>\n",
              "    </tr>\n",
              "  </tbody>\n",
              "</table>\n",
              "</div>\n",
              "    <div class=\"colab-df-buttons\">\n",
              "\n",
              "  <div class=\"colab-df-container\">\n",
              "    <button class=\"colab-df-convert\" onclick=\"convertToInteractive('df-8206c057-6e1b-4b09-a107-e2108f68663c')\"\n",
              "            title=\"Convert this dataframe to an interactive table.\"\n",
              "            style=\"display:none;\">\n",
              "\n",
              "  <svg xmlns=\"http://www.w3.org/2000/svg\" height=\"24px\" viewBox=\"0 -960 960 960\">\n",
              "    <path d=\"M120-120v-720h720v720H120Zm60-500h600v-160H180v160Zm220 220h160v-160H400v160Zm0 220h160v-160H400v160ZM180-400h160v-160H180v160Zm440 0h160v-160H620v160ZM180-180h160v-160H180v160Zm440 0h160v-160H620v160Z\"/>\n",
              "  </svg>\n",
              "    </button>\n",
              "\n",
              "  <style>\n",
              "    .colab-df-container {\n",
              "      display:flex;\n",
              "      gap: 12px;\n",
              "    }\n",
              "\n",
              "    .colab-df-convert {\n",
              "      background-color: #E8F0FE;\n",
              "      border: none;\n",
              "      border-radius: 50%;\n",
              "      cursor: pointer;\n",
              "      display: none;\n",
              "      fill: #1967D2;\n",
              "      height: 32px;\n",
              "      padding: 0 0 0 0;\n",
              "      width: 32px;\n",
              "    }\n",
              "\n",
              "    .colab-df-convert:hover {\n",
              "      background-color: #E2EBFA;\n",
              "      box-shadow: 0px 1px 2px rgba(60, 64, 67, 0.3), 0px 1px 3px 1px rgba(60, 64, 67, 0.15);\n",
              "      fill: #174EA6;\n",
              "    }\n",
              "\n",
              "    .colab-df-buttons div {\n",
              "      margin-bottom: 4px;\n",
              "    }\n",
              "\n",
              "    [theme=dark] .colab-df-convert {\n",
              "      background-color: #3B4455;\n",
              "      fill: #D2E3FC;\n",
              "    }\n",
              "\n",
              "    [theme=dark] .colab-df-convert:hover {\n",
              "      background-color: #434B5C;\n",
              "      box-shadow: 0px 1px 3px 1px rgba(0, 0, 0, 0.15);\n",
              "      filter: drop-shadow(0px 1px 2px rgba(0, 0, 0, 0.3));\n",
              "      fill: #FFFFFF;\n",
              "    }\n",
              "  </style>\n",
              "\n",
              "    <script>\n",
              "      const buttonEl =\n",
              "        document.querySelector('#df-8206c057-6e1b-4b09-a107-e2108f68663c button.colab-df-convert');\n",
              "      buttonEl.style.display =\n",
              "        google.colab.kernel.accessAllowed ? 'block' : 'none';\n",
              "\n",
              "      async function convertToInteractive(key) {\n",
              "        const element = document.querySelector('#df-8206c057-6e1b-4b09-a107-e2108f68663c');\n",
              "        const dataTable =\n",
              "          await google.colab.kernel.invokeFunction('convertToInteractive',\n",
              "                                                    [key], {});\n",
              "        if (!dataTable) return;\n",
              "\n",
              "        const docLinkHtml = 'Like what you see? Visit the ' +\n",
              "          '<a target=\"_blank\" href=https://colab.research.google.com/notebooks/data_table.ipynb>data table notebook</a>'\n",
              "          + ' to learn more about interactive tables.';\n",
              "        element.innerHTML = '';\n",
              "        dataTable['output_type'] = 'display_data';\n",
              "        await google.colab.output.renderOutput(dataTable, element);\n",
              "        const docLink = document.createElement('div');\n",
              "        docLink.innerHTML = docLinkHtml;\n",
              "        element.appendChild(docLink);\n",
              "      }\n",
              "    </script>\n",
              "  </div>\n",
              "\n",
              "\n",
              "<div id=\"df-34d5ff13-9d68-4840-8bb7-d1c7c8b873c8\">\n",
              "  <button class=\"colab-df-quickchart\" onclick=\"quickchart('df-34d5ff13-9d68-4840-8bb7-d1c7c8b873c8')\"\n",
              "            title=\"Suggest charts.\"\n",
              "            style=\"display:none;\">\n",
              "\n",
              "<svg xmlns=\"http://www.w3.org/2000/svg\" height=\"24px\"viewBox=\"0 0 24 24\"\n",
              "     width=\"24px\">\n",
              "    <g>\n",
              "        <path d=\"M19 3H5c-1.1 0-2 .9-2 2v14c0 1.1.9 2 2 2h14c1.1 0 2-.9 2-2V5c0-1.1-.9-2-2-2zM9 17H7v-7h2v7zm4 0h-2V7h2v10zm4 0h-2v-4h2v4z\"/>\n",
              "    </g>\n",
              "</svg>\n",
              "  </button>\n",
              "\n",
              "<style>\n",
              "  .colab-df-quickchart {\n",
              "      --bg-color: #E8F0FE;\n",
              "      --fill-color: #1967D2;\n",
              "      --hover-bg-color: #E2EBFA;\n",
              "      --hover-fill-color: #174EA6;\n",
              "      --disabled-fill-color: #AAA;\n",
              "      --disabled-bg-color: #DDD;\n",
              "  }\n",
              "\n",
              "  [theme=dark] .colab-df-quickchart {\n",
              "      --bg-color: #3B4455;\n",
              "      --fill-color: #D2E3FC;\n",
              "      --hover-bg-color: #434B5C;\n",
              "      --hover-fill-color: #FFFFFF;\n",
              "      --disabled-bg-color: #3B4455;\n",
              "      --disabled-fill-color: #666;\n",
              "  }\n",
              "\n",
              "  .colab-df-quickchart {\n",
              "    background-color: var(--bg-color);\n",
              "    border: none;\n",
              "    border-radius: 50%;\n",
              "    cursor: pointer;\n",
              "    display: none;\n",
              "    fill: var(--fill-color);\n",
              "    height: 32px;\n",
              "    padding: 0;\n",
              "    width: 32px;\n",
              "  }\n",
              "\n",
              "  .colab-df-quickchart:hover {\n",
              "    background-color: var(--hover-bg-color);\n",
              "    box-shadow: 0 1px 2px rgba(60, 64, 67, 0.3), 0 1px 3px 1px rgba(60, 64, 67, 0.15);\n",
              "    fill: var(--button-hover-fill-color);\n",
              "  }\n",
              "\n",
              "  .colab-df-quickchart-complete:disabled,\n",
              "  .colab-df-quickchart-complete:disabled:hover {\n",
              "    background-color: var(--disabled-bg-color);\n",
              "    fill: var(--disabled-fill-color);\n",
              "    box-shadow: none;\n",
              "  }\n",
              "\n",
              "  .colab-df-spinner {\n",
              "    border: 2px solid var(--fill-color);\n",
              "    border-color: transparent;\n",
              "    border-bottom-color: var(--fill-color);\n",
              "    animation:\n",
              "      spin 1s steps(1) infinite;\n",
              "  }\n",
              "\n",
              "  @keyframes spin {\n",
              "    0% {\n",
              "      border-color: transparent;\n",
              "      border-bottom-color: var(--fill-color);\n",
              "      border-left-color: var(--fill-color);\n",
              "    }\n",
              "    20% {\n",
              "      border-color: transparent;\n",
              "      border-left-color: var(--fill-color);\n",
              "      border-top-color: var(--fill-color);\n",
              "    }\n",
              "    30% {\n",
              "      border-color: transparent;\n",
              "      border-left-color: var(--fill-color);\n",
              "      border-top-color: var(--fill-color);\n",
              "      border-right-color: var(--fill-color);\n",
              "    }\n",
              "    40% {\n",
              "      border-color: transparent;\n",
              "      border-right-color: var(--fill-color);\n",
              "      border-top-color: var(--fill-color);\n",
              "    }\n",
              "    60% {\n",
              "      border-color: transparent;\n",
              "      border-right-color: var(--fill-color);\n",
              "    }\n",
              "    80% {\n",
              "      border-color: transparent;\n",
              "      border-right-color: var(--fill-color);\n",
              "      border-bottom-color: var(--fill-color);\n",
              "    }\n",
              "    90% {\n",
              "      border-color: transparent;\n",
              "      border-bottom-color: var(--fill-color);\n",
              "    }\n",
              "  }\n",
              "</style>\n",
              "\n",
              "  <script>\n",
              "    async function quickchart(key) {\n",
              "      const quickchartButtonEl =\n",
              "        document.querySelector('#' + key + ' button');\n",
              "      quickchartButtonEl.disabled = true;  // To prevent multiple clicks.\n",
              "      quickchartButtonEl.classList.add('colab-df-spinner');\n",
              "      try {\n",
              "        const charts = await google.colab.kernel.invokeFunction(\n",
              "            'suggestCharts', [key], {});\n",
              "      } catch (error) {\n",
              "        console.error('Error during call to suggestCharts:', error);\n",
              "      }\n",
              "      quickchartButtonEl.classList.remove('colab-df-spinner');\n",
              "      quickchartButtonEl.classList.add('colab-df-quickchart-complete');\n",
              "    }\n",
              "    (() => {\n",
              "      let quickchartButtonEl =\n",
              "        document.querySelector('#df-34d5ff13-9d68-4840-8bb7-d1c7c8b873c8 button');\n",
              "      quickchartButtonEl.style.display =\n",
              "        google.colab.kernel.accessAllowed ? 'block' : 'none';\n",
              "    })();\n",
              "  </script>\n",
              "</div>\n",
              "    </div>\n",
              "  </div>\n"
            ]
          },
          "metadata": {},
          "execution_count": 10
        }
      ]
    },
    {
      "cell_type": "markdown",
      "source": [
        "there's no null values now"
      ],
      "metadata": {
        "id": "QFNz2wkqnrFf"
      }
    },
    {
      "cell_type": "code",
      "source": [
        "df.isna().sum()"
      ],
      "metadata": {
        "colab": {
          "base_uri": "https://localhost:8080/"
        },
        "id": "rRHCb6Upnn41",
        "outputId": "d92ee415-9790-43cf-bb7a-cabfc4e56e68"
      },
      "execution_count": null,
      "outputs": [
        {
          "output_type": "execute_result",
          "data": {
            "text/plain": [
              "v1    0\n",
              "v2    0\n",
              "dtype: int64"
            ]
          },
          "metadata": {},
          "execution_count": 11
        }
      ]
    },
    {
      "cell_type": "code",
      "source": [
        "df.info()\n"
      ],
      "metadata": {
        "colab": {
          "base_uri": "https://localhost:8080/"
        },
        "id": "llHiakifwTf4",
        "outputId": "a7be3e48-4639-4e68-e69a-a11b7782c1e7"
      },
      "execution_count": null,
      "outputs": [
        {
          "output_type": "stream",
          "name": "stdout",
          "text": [
            "<class 'pandas.core.frame.DataFrame'>\n",
            "RangeIndex: 5572 entries, 0 to 5571\n",
            "Data columns (total 2 columns):\n",
            " #   Column  Non-Null Count  Dtype \n",
            "---  ------  --------------  ----- \n",
            " 0   v1      5572 non-null   object\n",
            " 1   v2      5572 non-null   object\n",
            "dtypes: object(2)\n",
            "memory usage: 87.2+ KB\n"
          ]
        }
      ]
    },
    {
      "cell_type": "code",
      "source": [
        "df.describe()\n",
        "#v1 : label (spam or ham)\n",
        "#v2 : message"
      ],
      "metadata": {
        "colab": {
          "base_uri": "https://localhost:8080/",
          "height": 174
        },
        "id": "1x6vJkkVl1U_",
        "outputId": "f8b7dcde-8b75-41fb-91b0-d473f72275f5"
      },
      "execution_count": null,
      "outputs": [
        {
          "output_type": "execute_result",
          "data": {
            "text/plain": [
              "          v1                      v2\n",
              "count   5572                    5572\n",
              "unique     2                    5169\n",
              "top      ham  Sorry, I'll call later\n",
              "freq    4825                      30"
            ],
            "text/html": [
              "\n",
              "  <div id=\"df-126764a8-7443-4152-9907-6cecc323f18d\" class=\"colab-df-container\">\n",
              "    <div>\n",
              "<style scoped>\n",
              "    .dataframe tbody tr th:only-of-type {\n",
              "        vertical-align: middle;\n",
              "    }\n",
              "\n",
              "    .dataframe tbody tr th {\n",
              "        vertical-align: top;\n",
              "    }\n",
              "\n",
              "    .dataframe thead th {\n",
              "        text-align: right;\n",
              "    }\n",
              "</style>\n",
              "<table border=\"1\" class=\"dataframe\">\n",
              "  <thead>\n",
              "    <tr style=\"text-align: right;\">\n",
              "      <th></th>\n",
              "      <th>v1</th>\n",
              "      <th>v2</th>\n",
              "    </tr>\n",
              "  </thead>\n",
              "  <tbody>\n",
              "    <tr>\n",
              "      <th>count</th>\n",
              "      <td>5572</td>\n",
              "      <td>5572</td>\n",
              "    </tr>\n",
              "    <tr>\n",
              "      <th>unique</th>\n",
              "      <td>2</td>\n",
              "      <td>5169</td>\n",
              "    </tr>\n",
              "    <tr>\n",
              "      <th>top</th>\n",
              "      <td>ham</td>\n",
              "      <td>Sorry, I'll call later</td>\n",
              "    </tr>\n",
              "    <tr>\n",
              "      <th>freq</th>\n",
              "      <td>4825</td>\n",
              "      <td>30</td>\n",
              "    </tr>\n",
              "  </tbody>\n",
              "</table>\n",
              "</div>\n",
              "    <div class=\"colab-df-buttons\">\n",
              "\n",
              "  <div class=\"colab-df-container\">\n",
              "    <button class=\"colab-df-convert\" onclick=\"convertToInteractive('df-126764a8-7443-4152-9907-6cecc323f18d')\"\n",
              "            title=\"Convert this dataframe to an interactive table.\"\n",
              "            style=\"display:none;\">\n",
              "\n",
              "  <svg xmlns=\"http://www.w3.org/2000/svg\" height=\"24px\" viewBox=\"0 -960 960 960\">\n",
              "    <path d=\"M120-120v-720h720v720H120Zm60-500h600v-160H180v160Zm220 220h160v-160H400v160Zm0 220h160v-160H400v160ZM180-400h160v-160H180v160Zm440 0h160v-160H620v160ZM180-180h160v-160H180v160Zm440 0h160v-160H620v160Z\"/>\n",
              "  </svg>\n",
              "    </button>\n",
              "\n",
              "  <style>\n",
              "    .colab-df-container {\n",
              "      display:flex;\n",
              "      gap: 12px;\n",
              "    }\n",
              "\n",
              "    .colab-df-convert {\n",
              "      background-color: #E8F0FE;\n",
              "      border: none;\n",
              "      border-radius: 50%;\n",
              "      cursor: pointer;\n",
              "      display: none;\n",
              "      fill: #1967D2;\n",
              "      height: 32px;\n",
              "      padding: 0 0 0 0;\n",
              "      width: 32px;\n",
              "    }\n",
              "\n",
              "    .colab-df-convert:hover {\n",
              "      background-color: #E2EBFA;\n",
              "      box-shadow: 0px 1px 2px rgba(60, 64, 67, 0.3), 0px 1px 3px 1px rgba(60, 64, 67, 0.15);\n",
              "      fill: #174EA6;\n",
              "    }\n",
              "\n",
              "    .colab-df-buttons div {\n",
              "      margin-bottom: 4px;\n",
              "    }\n",
              "\n",
              "    [theme=dark] .colab-df-convert {\n",
              "      background-color: #3B4455;\n",
              "      fill: #D2E3FC;\n",
              "    }\n",
              "\n",
              "    [theme=dark] .colab-df-convert:hover {\n",
              "      background-color: #434B5C;\n",
              "      box-shadow: 0px 1px 3px 1px rgba(0, 0, 0, 0.15);\n",
              "      filter: drop-shadow(0px 1px 2px rgba(0, 0, 0, 0.3));\n",
              "      fill: #FFFFFF;\n",
              "    }\n",
              "  </style>\n",
              "\n",
              "    <script>\n",
              "      const buttonEl =\n",
              "        document.querySelector('#df-126764a8-7443-4152-9907-6cecc323f18d button.colab-df-convert');\n",
              "      buttonEl.style.display =\n",
              "        google.colab.kernel.accessAllowed ? 'block' : 'none';\n",
              "\n",
              "      async function convertToInteractive(key) {\n",
              "        const element = document.querySelector('#df-126764a8-7443-4152-9907-6cecc323f18d');\n",
              "        const dataTable =\n",
              "          await google.colab.kernel.invokeFunction('convertToInteractive',\n",
              "                                                    [key], {});\n",
              "        if (!dataTable) return;\n",
              "\n",
              "        const docLinkHtml = 'Like what you see? Visit the ' +\n",
              "          '<a target=\"_blank\" href=https://colab.research.google.com/notebooks/data_table.ipynb>data table notebook</a>'\n",
              "          + ' to learn more about interactive tables.';\n",
              "        element.innerHTML = '';\n",
              "        dataTable['output_type'] = 'display_data';\n",
              "        await google.colab.output.renderOutput(dataTable, element);\n",
              "        const docLink = document.createElement('div');\n",
              "        docLink.innerHTML = docLinkHtml;\n",
              "        element.appendChild(docLink);\n",
              "      }\n",
              "    </script>\n",
              "  </div>\n",
              "\n",
              "\n",
              "<div id=\"df-192fcafb-848c-4938-9499-f4cb17ef180c\">\n",
              "  <button class=\"colab-df-quickchart\" onclick=\"quickchart('df-192fcafb-848c-4938-9499-f4cb17ef180c')\"\n",
              "            title=\"Suggest charts.\"\n",
              "            style=\"display:none;\">\n",
              "\n",
              "<svg xmlns=\"http://www.w3.org/2000/svg\" height=\"24px\"viewBox=\"0 0 24 24\"\n",
              "     width=\"24px\">\n",
              "    <g>\n",
              "        <path d=\"M19 3H5c-1.1 0-2 .9-2 2v14c0 1.1.9 2 2 2h14c1.1 0 2-.9 2-2V5c0-1.1-.9-2-2-2zM9 17H7v-7h2v7zm4 0h-2V7h2v10zm4 0h-2v-4h2v4z\"/>\n",
              "    </g>\n",
              "</svg>\n",
              "  </button>\n",
              "\n",
              "<style>\n",
              "  .colab-df-quickchart {\n",
              "      --bg-color: #E8F0FE;\n",
              "      --fill-color: #1967D2;\n",
              "      --hover-bg-color: #E2EBFA;\n",
              "      --hover-fill-color: #174EA6;\n",
              "      --disabled-fill-color: #AAA;\n",
              "      --disabled-bg-color: #DDD;\n",
              "  }\n",
              "\n",
              "  [theme=dark] .colab-df-quickchart {\n",
              "      --bg-color: #3B4455;\n",
              "      --fill-color: #D2E3FC;\n",
              "      --hover-bg-color: #434B5C;\n",
              "      --hover-fill-color: #FFFFFF;\n",
              "      --disabled-bg-color: #3B4455;\n",
              "      --disabled-fill-color: #666;\n",
              "  }\n",
              "\n",
              "  .colab-df-quickchart {\n",
              "    background-color: var(--bg-color);\n",
              "    border: none;\n",
              "    border-radius: 50%;\n",
              "    cursor: pointer;\n",
              "    display: none;\n",
              "    fill: var(--fill-color);\n",
              "    height: 32px;\n",
              "    padding: 0;\n",
              "    width: 32px;\n",
              "  }\n",
              "\n",
              "  .colab-df-quickchart:hover {\n",
              "    background-color: var(--hover-bg-color);\n",
              "    box-shadow: 0 1px 2px rgba(60, 64, 67, 0.3), 0 1px 3px 1px rgba(60, 64, 67, 0.15);\n",
              "    fill: var(--button-hover-fill-color);\n",
              "  }\n",
              "\n",
              "  .colab-df-quickchart-complete:disabled,\n",
              "  .colab-df-quickchart-complete:disabled:hover {\n",
              "    background-color: var(--disabled-bg-color);\n",
              "    fill: var(--disabled-fill-color);\n",
              "    box-shadow: none;\n",
              "  }\n",
              "\n",
              "  .colab-df-spinner {\n",
              "    border: 2px solid var(--fill-color);\n",
              "    border-color: transparent;\n",
              "    border-bottom-color: var(--fill-color);\n",
              "    animation:\n",
              "      spin 1s steps(1) infinite;\n",
              "  }\n",
              "\n",
              "  @keyframes spin {\n",
              "    0% {\n",
              "      border-color: transparent;\n",
              "      border-bottom-color: var(--fill-color);\n",
              "      border-left-color: var(--fill-color);\n",
              "    }\n",
              "    20% {\n",
              "      border-color: transparent;\n",
              "      border-left-color: var(--fill-color);\n",
              "      border-top-color: var(--fill-color);\n",
              "    }\n",
              "    30% {\n",
              "      border-color: transparent;\n",
              "      border-left-color: var(--fill-color);\n",
              "      border-top-color: var(--fill-color);\n",
              "      border-right-color: var(--fill-color);\n",
              "    }\n",
              "    40% {\n",
              "      border-color: transparent;\n",
              "      border-right-color: var(--fill-color);\n",
              "      border-top-color: var(--fill-color);\n",
              "    }\n",
              "    60% {\n",
              "      border-color: transparent;\n",
              "      border-right-color: var(--fill-color);\n",
              "    }\n",
              "    80% {\n",
              "      border-color: transparent;\n",
              "      border-right-color: var(--fill-color);\n",
              "      border-bottom-color: var(--fill-color);\n",
              "    }\n",
              "    90% {\n",
              "      border-color: transparent;\n",
              "      border-bottom-color: var(--fill-color);\n",
              "    }\n",
              "  }\n",
              "</style>\n",
              "\n",
              "  <script>\n",
              "    async function quickchart(key) {\n",
              "      const quickchartButtonEl =\n",
              "        document.querySelector('#' + key + ' button');\n",
              "      quickchartButtonEl.disabled = true;  // To prevent multiple clicks.\n",
              "      quickchartButtonEl.classList.add('colab-df-spinner');\n",
              "      try {\n",
              "        const charts = await google.colab.kernel.invokeFunction(\n",
              "            'suggestCharts', [key], {});\n",
              "      } catch (error) {\n",
              "        console.error('Error during call to suggestCharts:', error);\n",
              "      }\n",
              "      quickchartButtonEl.classList.remove('colab-df-spinner');\n",
              "      quickchartButtonEl.classList.add('colab-df-quickchart-complete');\n",
              "    }\n",
              "    (() => {\n",
              "      let quickchartButtonEl =\n",
              "        document.querySelector('#df-192fcafb-848c-4938-9499-f4cb17ef180c button');\n",
              "      quickchartButtonEl.style.display =\n",
              "        google.colab.kernel.accessAllowed ? 'block' : 'none';\n",
              "    })();\n",
              "  </script>\n",
              "</div>\n",
              "    </div>\n",
              "  </div>\n"
            ]
          },
          "metadata": {},
          "execution_count": 13
        }
      ]
    },
    {
      "cell_type": "markdown",
      "source": [
        "**rename columns to be readable**"
      ],
      "metadata": {
        "id": "MD77TrrvoID8"
      }
    },
    {
      "cell_type": "code",
      "source": [
        "df.rename(columns = {'v1': 'label' , 'v2':'Email'}, inplace=True)"
      ],
      "metadata": {
        "id": "949nbzxMmrln"
      },
      "execution_count": null,
      "outputs": []
    },
    {
      "cell_type": "code",
      "source": [
        "df.columns"
      ],
      "metadata": {
        "colab": {
          "base_uri": "https://localhost:8080/"
        },
        "id": "lMbuhHPnojGJ",
        "outputId": "fb331bdd-346d-4b23-cde5-5e50815f12e4"
      },
      "execution_count": null,
      "outputs": [
        {
          "output_type": "execute_result",
          "data": {
            "text/plain": [
              "Index(['label', 'Email'], dtype='object')"
            ]
          },
          "metadata": {},
          "execution_count": 15
        }
      ]
    },
    {
      "cell_type": "markdown",
      "source": [
        "##visualize the occurrence of two labels in a dataset"
      ],
      "metadata": {
        "id": "ourpN04_rGOD"
      }
    },
    {
      "cell_type": "code",
      "source": [
        "# Calculate the occurrence of each label\n",
        "label_counts = df['label'].value_counts()\n",
        "# print(label_counts)\n",
        "\n",
        "# Get the labels and their corresponding counts\n",
        "labels = label_counts.index\n",
        "counts = label_counts.values\n",
        "print(labels, counts)\n",
        "\n",
        "# Create a bar graph\n",
        "plt.bar(labels, counts)\n",
        "\n",
        "# Add labels and title\n",
        "plt.xlabel('Label')\n",
        "plt.ylabel('Count')\n",
        "plt.title('Ham VS Spam Occurrences')\n",
        "\n",
        "# Show the bar graph\n",
        "plt.show()"
      ],
      "metadata": {
        "colab": {
          "base_uri": "https://localhost:8080/",
          "height": 489
        },
        "id": "46jo7VRjorRt",
        "outputId": "53c6c988-a495-4a64-d840-5fb4d59a2014"
      },
      "execution_count": null,
      "outputs": [
        {
          "output_type": "stream",
          "name": "stdout",
          "text": [
            "Index(['ham', 'spam'], dtype='object') [4825  747]\n"
          ]
        },
        {
          "output_type": "display_data",
          "data": {
            "text/plain": [
              "<Figure size 640x480 with 1 Axes>"
            ],
            "image/png": "[encoded data removed]"
          },
          "metadata": {}
        }
      ]
    },
    {
      "cell_type": "markdown",
      "source": [
        "Note :**Dataset is imbalanced**"
      ],
      "metadata": {
        "id": "meMhcu80tVun"
      }
    },
    {
      "cell_type": "markdown",
      "source": [
        "**Label Encoding**\n",
        "\n",
        "label_encoder object knows how to understand word labels.\n",
        "\n",
        "**ham : 0**\n",
        "\n",
        "**spam :1**"
      ],
      "metadata": {
        "id": "qpew1V8qCe1s"
      }
    },
    {
      "cell_type": "code",
      "source": [
        "label_encoder = preprocessing.LabelEncoder()\n",
        "\n",
        "# Encode labels in column 'species'.\n",
        "df['Y']= label_encoder.fit_transform(df['label'])\n",
        "df['Y'].unique()\n"
      ],
      "metadata": {
        "colab": {
          "base_uri": "https://localhost:8080/"
        },
        "id": "JvUkSaf5CeMr",
        "outputId": "8151528d-87d4-4608-cab7-8207b005693a"
      },
      "execution_count": null,
      "outputs": [
        {
          "output_type": "execute_result",
          "data": {
            "text/plain": [
              "array([0, 1])"
            ]
          },
          "metadata": {},
          "execution_count": 17
        }
      ]
    },
    {
      "cell_type": "code",
      "source": [
        "df.head()"
      ],
      "metadata": {
        "colab": {
          "base_uri": "https://localhost:8080/",
          "height": 206
        },
        "id": "UNarqJy1JU0Q",
        "outputId": "ef138ab8-cf50-4196-92e1-2dcd57d93e0c"
      },
      "execution_count": null,
      "outputs": [
        {
          "output_type": "execute_result",
          "data": {
            "text/plain": [
              "  label                                              Email  Y\n",
              "0   ham  Go until jurong point, crazy.. Available only ...  0\n",
              "1   ham                      Ok lar... Joking wif u oni...  0\n",
              "2  spam  Free entry in 2 a wkly comp to win FA Cup fina...  1\n",
              "3   ham  U dun say so early hor... U c already then say...  0\n",
              "4   ham  Nah I don't think he goes to usf, he lives aro...  0"
            ],
            "text/html": [
              "\n",
              "  <div id=\"df-9e8b73dd-0024-4a80-a3d0-7bfc513258cb\" class=\"colab-df-container\">\n",
              "    <div>\n",
              "<style scoped>\n",
              "    .dataframe tbody tr th:only-of-type {\n",
              "        vertical-align: middle;\n",
              "    }\n",
              "\n",
              "    .dataframe tbody tr th {\n",
              "        vertical-align: top;\n",
              "    }\n",
              "\n",
              "    .dataframe thead th {\n",
              "        text-align: right;\n",
              "    }\n",
              "</style>\n",
              "<table border=\"1\" class=\"dataframe\">\n",
              "  <thead>\n",
              "    <tr style=\"text-align: right;\">\n",
              "      <th></th>\n",
              "      <th>label</th>\n",
              "      <th>Email</th>\n",
              "      <th>Y</th>\n",
              "    </tr>\n",
              "  </thead>\n",
              "  <tbody>\n",
              "    <tr>\n",
              "      <th>0</th>\n",
              "      <td>ham</td>\n",
              "      <td>Go until jurong point, crazy.. Available only ...</td>\n",
              "      <td>0</td>\n",
              "    </tr>\n",
              "    <tr>\n",
              "      <th>1</th>\n",
              "      <td>ham</td>\n",
              "      <td>Ok lar... Joking wif u oni...</td>\n",
              "      <td>0</td>\n",
              "    </tr>\n",
              "    <tr>\n",
              "      <th>2</th>\n",
              "      <td>spam</td>\n",
              "      <td>Free entry in 2 a wkly comp to win FA Cup fina...</td>\n",
              "      <td>1</td>\n",
              "    </tr>\n",
              "    <tr>\n",
              "      <th>3</th>\n",
              "      <td>ham</td>\n",
              "      <td>U dun say so early hor... U c already then say...</td>\n",
              "      <td>0</td>\n",
              "    </tr>\n",
              "    <tr>\n",
              "      <th>4</th>\n",
              "      <td>ham</td>\n",
              "      <td>Nah I don't think he goes to usf, he lives aro...</td>\n",
              "      <td>0</td>\n",
              "    </tr>\n",
              "  </tbody>\n",
              "</table>\n",
              "</div>\n",
              "    <div class=\"colab-df-buttons\">\n",
              "\n",
              "  <div class=\"colab-df-container\">\n",
              "    <button class=\"colab-df-convert\" onclick=\"convertToInteractive('df-9e8b73dd-0024-4a80-a3d0-7bfc513258cb')\"\n",
              "            title=\"Convert this dataframe to an interactive table.\"\n",
              "            style=\"display:none;\">\n",
              "\n",
              "  <svg xmlns=\"http://www.w3.org/2000/svg\" height=\"24px\" viewBox=\"0 -960 960 960\">\n",
              "    <path d=\"M120-120v-720h720v720H120Zm60-500h600v-160H180v160Zm220 220h160v-160H400v160Zm0 220h160v-160H400v160ZM180-400h160v-160H180v160Zm440 0h160v-160H620v160ZM180-180h160v-160H180v160Zm440 0h160v-160H620v160Z\"/>\n",
              "  </svg>\n",
              "    </button>\n",
              "\n",
              "  <style>\n",
              "    .colab-df-container {\n",
              "      display:flex;\n",
              "      gap: 12px;\n",
              "    }\n",
              "\n",
              "    .colab-df-convert {\n",
              "      background-color: #E8F0FE;\n",
              "      border: none;\n",
              "      border-radius: 50%;\n",
              "      cursor: pointer;\n",
              "      display: none;\n",
              "      fill: #1967D2;\n",
              "      height: 32px;\n",
              "      padding: 0 0 0 0;\n",
              "      width: 32px;\n",
              "    }\n",
              "\n",
              "    .colab-df-convert:hover {\n",
              "      background-color: #E2EBFA;\n",
              "      box-shadow: 0px 1px 2px rgba(60, 64, 67, 0.3), 0px 1px 3px 1px rgba(60, 64, 67, 0.15);\n",
              "      fill: #174EA6;\n",
              "    }\n",
              "\n",
              "    .colab-df-buttons div {\n",
              "      margin-bottom: 4px;\n",
              "    }\n",
              "\n",
              "    [theme=dark] .colab-df-convert {\n",
              "      background-color: #3B4455;\n",
              "      fill: #D2E3FC;\n",
              "    }\n",
              "\n",
              "    [theme=dark] .colab-df-convert:hover {\n",
              "      background-color: #434B5C;\n",
              "      box-shadow: 0px 1px 3px 1px rgba(0, 0, 0, 0.15);\n",
              "      filter: drop-shadow(0px 1px 2px rgba(0, 0, 0, 0.3));\n",
              "      fill: #FFFFFF;\n",
              "    }\n",
              "  </style>\n",
              "\n",
              "    <script>\n",
              "      const buttonEl =\n",
              "        document.querySelector('#df-9e8b73dd-0024-4a80-a3d0-7bfc513258cb button.colab-df-convert');\n",
              "      buttonEl.style.display =\n",
              "        google.colab.kernel.accessAllowed ? 'block' : 'none';\n",
              "\n",
              "      async function convertToInteractive(key) {\n",
              "        const element = document.querySelector('#df-9e8b73dd-0024-4a80-a3d0-7bfc513258cb');\n",
              "        const dataTable =\n",
              "          await google.colab.kernel.invokeFunction('convertToInteractive',\n",
              "                                                    [key], {});\n",
              "        if (!dataTable) return;\n",
              "\n",
              "        const docLinkHtml = 'Like what you see? Visit the ' +\n",
              "          '<a target=\"_blank\" href=https://colab.research.google.com/notebooks/data_table.ipynb>data table notebook</a>'\n",
              "          + ' to learn more about interactive tables.';\n",
              "        element.innerHTML = '';\n",
              "        dataTable['output_type'] = 'display_data';\n",
              "        await google.colab.output.renderOutput(dataTable, element);\n",
              "        const docLink = document.createElement('div');\n",
              "        docLink.innerHTML = docLinkHtml;\n",
              "        element.appendChild(docLink);\n",
              "      }\n",
              "    </script>\n",
              "  </div>\n",
              "\n",
              "\n",
              "<div id=\"df-d91a3104-3b4f-422a-b48c-c79bde2b6344\">\n",
              "  <button class=\"colab-df-quickchart\" onclick=\"quickchart('df-d91a3104-3b4f-422a-b48c-c79bde2b6344')\"\n",
              "            title=\"Suggest charts.\"\n",
              "            style=\"display:none;\">\n",
              "\n",
              "<svg xmlns=\"http://www.w3.org/2000/svg\" height=\"24px\"viewBox=\"0 0 24 24\"\n",
              "     width=\"24px\">\n",
              "    <g>\n",
              "        <path d=\"M19 3H5c-1.1 0-2 .9-2 2v14c0 1.1.9 2 2 2h14c1.1 0 2-.9 2-2V5c0-1.1-.9-2-2-2zM9 17H7v-7h2v7zm4 0h-2V7h2v10zm4 0h-2v-4h2v4z\"/>\n",
              "    </g>\n",
              "</svg>\n",
              "  </button>\n",
              "\n",
              "<style>\n",
              "  .colab-df-quickchart {\n",
              "      --bg-color: #E8F0FE;\n",
              "      --fill-color: #1967D2;\n",
              "      --hover-bg-color: #E2EBFA;\n",
              "      --hover-fill-color: #174EA6;\n",
              "      --disabled-fill-color: #AAA;\n",
              "      --disabled-bg-color: #DDD;\n",
              "  }\n",
              "\n",
              "  [theme=dark] .colab-df-quickchart {\n",
              "      --bg-color: #3B4455;\n",
              "      --fill-color: #D2E3FC;\n",
              "      --hover-bg-color: #434B5C;\n",
              "      --hover-fill-color: #FFFFFF;\n",
              "      --disabled-bg-color: #3B4455;\n",
              "      --disabled-fill-color: #666;\n",
              "  }\n",
              "\n",
              "  .colab-df-quickchart {\n",
              "    background-color: var(--bg-color);\n",
              "    border: none;\n",
              "    border-radius: 50%;\n",
              "    cursor: pointer;\n",
              "    display: none;\n",
              "    fill: var(--fill-color);\n",
              "    height: 32px;\n",
              "    padding: 0;\n",
              "    width: 32px;\n",
              "  }\n",
              "\n",
              "  .colab-df-quickchart:hover {\n",
              "    background-color: var(--hover-bg-color);\n",
              "    box-shadow: 0 1px 2px rgba(60, 64, 67, 0.3), 0 1px 3px 1px rgba(60, 64, 67, 0.15);\n",
              "    fill: var(--button-hover-fill-color);\n",
              "  }\n",
              "\n",
              "  .colab-df-quickchart-complete:disabled,\n",
              "  .colab-df-quickchart-complete:disabled:hover {\n",
              "    background-color: var(--disabled-bg-color);\n",
              "    fill: var(--disabled-fill-color);\n",
              "    box-shadow: none;\n",
              "  }\n",
              "\n",
              "  .colab-df-spinner {\n",
              "    border: 2px solid var(--fill-color);\n",
              "    border-color: transparent;\n",
              "    border-bottom-color: var(--fill-color);\n",
              "    animation:\n",
              "      spin 1s steps(1) infinite;\n",
              "  }\n",
              "\n",
              "  @keyframes spin {\n",
              "    0% {\n",
              "      border-color: transparent;\n",
              "      border-bottom-color: var(--fill-color);\n",
              "      border-left-color: var(--fill-color);\n",
              "    }\n",
              "    20% {\n",
              "      border-color: transparent;\n",
              "      border-left-color: var(--fill-color);\n",
              "      border-top-color: var(--fill-color);\n",
              "    }\n",
              "    30% {\n",
              "      border-color: transparent;\n",
              "      border-left-color: var(--fill-color);\n",
              "      border-top-color: var(--fill-color);\n",
              "      border-right-color: var(--fill-color);\n",
              "    }\n",
              "    40% {\n",
              "      border-color: transparent;\n",
              "      border-right-color: var(--fill-color);\n",
              "      border-top-color: var(--fill-color);\n",
              "    }\n",
              "    60% {\n",
              "      border-color: transparent;\n",
              "      border-right-color: var(--fill-color);\n",
              "    }\n",
              "    80% {\n",
              "      border-color: transparent;\n",
              "      border-right-color: var(--fill-color);\n",
              "      border-bottom-color: var(--fill-color);\n",
              "    }\n",
              "    90% {\n",
              "      border-color: transparent;\n",
              "      border-bottom-color: var(--fill-color);\n",
              "    }\n",
              "  }\n",
              "</style>\n",
              "\n",
              "  <script>\n",
              "    async function quickchart(key) {\n",
              "      const quickchartButtonEl =\n",
              "        document.querySelector('#' + key + ' button');\n",
              "      quickchartButtonEl.disabled = true;  // To prevent multiple clicks.\n",
              "      quickchartButtonEl.classList.add('colab-df-spinner');\n",
              "      try {\n",
              "        const charts = await google.colab.kernel.invokeFunction(\n",
              "            'suggestCharts', [key], {});\n",
              "      } catch (error) {\n",
              "        console.error('Error during call to suggestCharts:', error);\n",
              "      }\n",
              "      quickchartButtonEl.classList.remove('colab-df-spinner');\n",
              "      quickchartButtonEl.classList.add('colab-df-quickchart-complete');\n",
              "    }\n",
              "    (() => {\n",
              "      let quickchartButtonEl =\n",
              "        document.querySelector('#df-d91a3104-3b4f-422a-b48c-c79bde2b6344 button');\n",
              "      quickchartButtonEl.style.display =\n",
              "        google.colab.kernel.accessAllowed ? 'block' : 'none';\n",
              "    })();\n",
              "  </script>\n",
              "</div>\n",
              "    </div>\n",
              "  </div>\n"
            ]
          },
          "metadata": {},
          "execution_count": 18
        }
      ]
    },
    {
      "cell_type": "markdown",
      "source": [
        "#Text Processing\n",
        "Building a machine learning model requires the preprocessing of data, and the quality of the preprocessing determines the model’s performance.\n",
        "\n",
        "Where preprocessing text is the initial stage in NLP’s model-building process."
      ],
      "metadata": {
        "id": "pxmb3gVTt_SK"
      }
    },
    {
      "cell_type": "code",
      "source": [
        "nltk.download('punkt')\n",
        "from nltk.tokenize import word_tokenize\n",
        "from nltk import pos_tag\n",
        "nltk.download('stopwords')\n",
        "from nltk.corpus import stopwords\n",
        "nltk.download('wordnet')\n",
        "from nltk.corpus import wordnet\n"
      ],
      "metadata": {
        "colab": {
          "base_uri": "https://localhost:8080/"
        },
        "id": "zRvXXub80uOo",
        "outputId": "a8cebfce-eedf-46ca-999a-28ba2e701da3"
      },
      "execution_count": null,
      "outputs": [
        {
          "output_type": "stream",
          "name": "stderr",
          "text": [
            "[nltk_data] Downloading package punkt to /root/nltk_data...\n",
            "[nltk_data]   Unzipping tokenizers/punkt.zip.\n",
            "[nltk_data] Downloading package stopwords to /root/nltk_data...\n",
            "[nltk_data]   Unzipping corpora/stopwords.zip.\n",
            "[nltk_data] Downloading package wordnet to /root/nltk_data...\n"
          ]
        }
      ]
    },
    {
      "cell_type": "markdown",
      "source": [
        "##1.Remove Punctuation.2.Tokenization,3.Removing Stopwords\n",
        "\n",
        "there are many ways but i choosed 'Remove Punctuation from a text with Translate'\n",
        "This is one of the best ways to strip punctuation from a string according to geeksforgeeks\n",
        "\n",
        "https://www.geeksforgeeks.org/python-remove-punctuation-from-string/\n",
        "\n",
        "4.Remove all characters other than alphabets\n",
        "\n",
        "5.Part of Speech Tagging\n",
        "\n",
        "6.Lemmatization"
      ],
      "metadata": {
        "id": "iaVw2TDmvmmD"
      }
    },
    {
      "cell_type": "code",
      "source": [
        "# Function to remove punctuations.\n",
        "def remove_punc(text):\n",
        "  nonP_text = text.translate(str.maketrans('', '', string.punctuation))\n",
        "  # nonP_text = \"\".join([char for char in text if char not in string.punctuation])\n",
        "  return nonP_text"
      ],
      "metadata": {
        "id": "pd8cPUS2wwOp"
      },
      "execution_count": null,
      "outputs": []
    },
    {
      "cell_type": "code",
      "source": [
        "df.head()"
      ],
      "metadata": {
        "colab": {
          "base_uri": "https://localhost:8080/",
          "height": 206
        },
        "id": "qGx77sThyy2t",
        "outputId": "56fadb6a-eb5d-43ea-a9c8-d63b520dad23"
      },
      "execution_count": null,
      "outputs": [
        {
          "output_type": "execute_result",
          "data": {
            "text/plain": [
              "  label                                              Email  Y\n",
              "0   ham  Go until jurong point, crazy.. Available only ...  0\n",
              "1   ham                      Ok lar... Joking wif u oni...  0\n",
              "2  spam  Free entry in 2 a wkly comp to win FA Cup fina...  1\n",
              "3   ham  U dun say so early hor... U c already then say...  0\n",
              "4   ham  Nah I don't think he goes to usf, he lives aro...  0"
            ],
            "text/html": [
              "\n",
              "  <div id=\"df-72c91b9b-e4de-4f67-9a03-e26ee738a4f8\" class=\"colab-df-container\">\n",
              "    <div>\n",
              "<style scoped>\n",
              "    .dataframe tbody tr th:only-of-type {\n",
              "        vertical-align: middle;\n",
              "    }\n",
              "\n",
              "    .dataframe tbody tr th {\n",
              "        vertical-align: top;\n",
              "    }\n",
              "\n",
              "    .dataframe thead th {\n",
              "        text-align: right;\n",
              "    }\n",
              "</style>\n",
              "<table border=\"1\" class=\"dataframe\">\n",
              "  <thead>\n",
              "    <tr style=\"text-align: right;\">\n",
              "      <th></th>\n",
              "      <th>label</th>\n",
              "      <th>Email</th>\n",
              "      <th>Y</th>\n",
              "    </tr>\n",
              "  </thead>\n",
              "  <tbody>\n",
              "    <tr>\n",
              "      <th>0</th>\n",
              "      <td>ham</td>\n",
              "      <td>Go until jurong point, crazy.. Available only ...</td>\n",
              "      <td>0</td>\n",
              "    </tr>\n",
              "    <tr>\n",
              "      <th>1</th>\n",
              "      <td>ham</td>\n",
              "      <td>Ok lar... Joking wif u oni...</td>\n",
              "      <td>0</td>\n",
              "    </tr>\n",
              "    <tr>\n",
              "      <th>2</th>\n",
              "      <td>spam</td>\n",
              "      <td>Free entry in 2 a wkly comp to win FA Cup fina...</td>\n",
              "      <td>1</td>\n",
              "    </tr>\n",
              "    <tr>\n",
              "      <th>3</th>\n",
              "      <td>ham</td>\n",
              "      <td>U dun say so early hor... U c already then say...</td>\n",
              "      <td>0</td>\n",
              "    </tr>\n",
              "    <tr>\n",
              "      <th>4</th>\n",
              "      <td>ham</td>\n",
              "      <td>Nah I don't think he goes to usf, he lives aro...</td>\n",
              "      <td>0</td>\n",
              "    </tr>\n",
              "  </tbody>\n",
              "</table>\n",
              "</div>\n",
              "    <div class=\"colab-df-buttons\">\n",
              "\n",
              "  <div class=\"colab-df-container\">\n",
              "    <button class=\"colab-df-convert\" onclick=\"convertToInteractive('df-72c91b9b-e4de-4f67-9a03-e26ee738a4f8')\"\n",
              "            title=\"Convert this dataframe to an interactive table.\"\n",
              "            style=\"display:none;\">\n",
              "\n",
              "  <svg xmlns=\"http://www.w3.org/2000/svg\" height=\"24px\" viewBox=\"0 -960 960 960\">\n",
              "    <path d=\"M120-120v-720h720v720H120Zm60-500h600v-160H180v160Zm220 220h160v-160H400v160Zm0 220h160v-160H400v160ZM180-400h160v-160H180v160Zm440 0h160v-160H620v160ZM180-180h160v-160H180v160Zm440 0h160v-160H620v160Z\"/>\n",
              "  </svg>\n",
              "    </button>\n",
              "\n",
              "  <style>\n",
              "    .colab-df-container {\n",
              "      display:flex;\n",
              "      gap: 12px;\n",
              "    }\n",
              "\n",
              "    .colab-df-convert {\n",
              "      background-color: #E8F0FE;\n",
              "      border: none;\n",
              "      border-radius: 50%;\n",
              "      cursor: pointer;\n",
              "      display: none;\n",
              "      fill: #1967D2;\n",
              "      height: 32px;\n",
              "      padding: 0 0 0 0;\n",
              "      width: 32px;\n",
              "    }\n",
              "\n",
              "    .colab-df-convert:hover {\n",
              "      background-color: #E2EBFA;\n",
              "      box-shadow: 0px 1px 2px rgba(60, 64, 67, 0.3), 0px 1px 3px 1px rgba(60, 64, 67, 0.15);\n",
              "      fill: #174EA6;\n",
              "    }\n",
              "\n",
              "    .colab-df-buttons div {\n",
              "      margin-bottom: 4px;\n",
              "    }\n",
              "\n",
              "    [theme=dark] .colab-df-convert {\n",
              "      background-color: #3B4455;\n",
              "      fill: #D2E3FC;\n",
              "    }\n",
              "\n",
              "    [theme=dark] .colab-df-convert:hover {\n",
              "      background-color: #434B5C;\n",
              "      box-shadow: 0px 1px 3px 1px rgba(0, 0, 0, 0.15);\n",
              "      filter: drop-shadow(0px 1px 2px rgba(0, 0, 0, 0.3));\n",
              "      fill: #FFFFFF;\n",
              "    }\n",
              "  </style>\n",
              "\n",
              "    <script>\n",
              "      const buttonEl =\n",
              "        document.querySelector('#df-72c91b9b-e4de-4f67-9a03-e26ee738a4f8 button.colab-df-convert');\n",
              "      buttonEl.style.display =\n",
              "        google.colab.kernel.accessAllowed ? 'block' : 'none';\n",
              "\n",
              "      async function convertToInteractive(key) {\n",
              "        const element = document.querySelector('#df-72c91b9b-e4de-4f67-9a03-e26ee738a4f8');\n",
              "        const dataTable =\n",
              "          await google.colab.kernel.invokeFunction('convertToInteractive',\n",
              "                                                    [key], {});\n",
              "        if (!dataTable) return;\n",
              "\n",
              "        const docLinkHtml = 'Like what you see? Visit the ' +\n",
              "          '<a target=\"_blank\" href=https://colab.research.google.com/notebooks/data_table.ipynb>data table notebook</a>'\n",
              "          + ' to learn more about interactive tables.';\n",
              "        element.innerHTML = '';\n",
              "        dataTable['output_type'] = 'display_data';\n",
              "        await google.colab.output.renderOutput(dataTable, element);\n",
              "        const docLink = document.createElement('div');\n",
              "        docLink.innerHTML = docLinkHtml;\n",
              "        element.appendChild(docLink);\n",
              "      }\n",
              "    </script>\n",
              "  </div>\n",
              "\n",
              "\n",
              "<div id=\"df-ec7d4ddb-d138-441c-b5be-ba026298d188\">\n",
              "  <button class=\"colab-df-quickchart\" onclick=\"quickchart('df-ec7d4ddb-d138-441c-b5be-ba026298d188')\"\n",
              "            title=\"Suggest charts.\"\n",
              "            style=\"display:none;\">\n",
              "\n",
              "<svg xmlns=\"http://www.w3.org/2000/svg\" height=\"24px\"viewBox=\"0 0 24 24\"\n",
              "     width=\"24px\">\n",
              "    <g>\n",
              "        <path d=\"M19 3H5c-1.1 0-2 .9-2 2v14c0 1.1.9 2 2 2h14c1.1 0 2-.9 2-2V5c0-1.1-.9-2-2-2zM9 17H7v-7h2v7zm4 0h-2V7h2v10zm4 0h-2v-4h2v4z\"/>\n",
              "    </g>\n",
              "</svg>\n",
              "  </button>\n",
              "\n",
              "<style>\n",
              "  .colab-df-quickchart {\n",
              "      --bg-color: #E8F0FE;\n",
              "      --fill-color: #1967D2;\n",
              "      --hover-bg-color: #E2EBFA;\n",
              "      --hover-fill-color: #174EA6;\n",
              "      --disabled-fill-color: #AAA;\n",
              "      --disabled-bg-color: #DDD;\n",
              "  }\n",
              "\n",
              "  [theme=dark] .colab-df-quickchart {\n",
              "      --bg-color: #3B4455;\n",
              "      --fill-color: #D2E3FC;\n",
              "      --hover-bg-color: #434B5C;\n",
              "      --hover-fill-color: #FFFFFF;\n",
              "      --disabled-bg-color: #3B4455;\n",
              "      --disabled-fill-color: #666;\n",
              "  }\n",
              "\n",
              "  .colab-df-quickchart {\n",
              "    background-color: var(--bg-color);\n",
              "    border: none;\n",
              "    border-radius: 50%;\n",
              "    cursor: pointer;\n",
              "    display: none;\n",
              "    fill: var(--fill-color);\n",
              "    height: 32px;\n",
              "    padding: 0;\n",
              "    width: 32px;\n",
              "  }\n",
              "\n",
              "  .colab-df-quickchart:hover {\n",
              "    background-color: var(--hover-bg-color);\n",
              "    box-shadow: 0 1px 2px rgba(60, 64, 67, 0.3), 0 1px 3px 1px rgba(60, 64, 67, 0.15);\n",
              "    fill: var(--button-hover-fill-color);\n",
              "  }\n",
              "\n",
              "  .colab-df-quickchart-complete:disabled,\n",
              "  .colab-df-quickchart-complete:disabled:hover {\n",
              "    background-color: var(--disabled-bg-color);\n",
              "    fill: var(--disabled-fill-color);\n",
              "    box-shadow: none;\n",
              "  }\n",
              "\n",
              "  .colab-df-spinner {\n",
              "    border: 2px solid var(--fill-color);\n",
              "    border-color: transparent;\n",
              "    border-bottom-color: var(--fill-color);\n",
              "    animation:\n",
              "      spin 1s steps(1) infinite;\n",
              "  }\n",
              "\n",
              "  @keyframes spin {\n",
              "    0% {\n",
              "      border-color: transparent;\n",
              "      border-bottom-color: var(--fill-color);\n",
              "      border-left-color: var(--fill-color);\n",
              "    }\n",
              "    20% {\n",
              "      border-color: transparent;\n",
              "      border-left-color: var(--fill-color);\n",
              "      border-top-color: var(--fill-color);\n",
              "    }\n",
              "    30% {\n",
              "      border-color: transparent;\n",
              "      border-left-color: var(--fill-color);\n",
              "      border-top-color: var(--fill-color);\n",
              "      border-right-color: var(--fill-color);\n",
              "    }\n",
              "    40% {\n",
              "      border-color: transparent;\n",
              "      border-right-color: var(--fill-color);\n",
              "      border-top-color: var(--fill-color);\n",
              "    }\n",
              "    60% {\n",
              "      border-color: transparent;\n",
              "      border-right-color: var(--fill-color);\n",
              "    }\n",
              "    80% {\n",
              "      border-color: transparent;\n",
              "      border-right-color: var(--fill-color);\n",
              "      border-bottom-color: var(--fill-color);\n",
              "    }\n",
              "    90% {\n",
              "      border-color: transparent;\n",
              "      border-bottom-color: var(--fill-color);\n",
              "    }\n",
              "  }\n",
              "</style>\n",
              "\n",
              "  <script>\n",
              "    async function quickchart(key) {\n",
              "      const quickchartButtonEl =\n",
              "        document.querySelector('#' + key + ' button');\n",
              "      quickchartButtonEl.disabled = true;  // To prevent multiple clicks.\n",
              "      quickchartButtonEl.classList.add('colab-df-spinner');\n",
              "      try {\n",
              "        const charts = await google.colab.kernel.invokeFunction(\n",
              "            'suggestCharts', [key], {});\n",
              "      } catch (error) {\n",
              "        console.error('Error during call to suggestCharts:', error);\n",
              "      }\n",
              "      quickchartButtonEl.classList.remove('colab-df-spinner');\n",
              "      quickchartButtonEl.classList.add('colab-df-quickchart-complete');\n",
              "    }\n",
              "    (() => {\n",
              "      let quickchartButtonEl =\n",
              "        document.querySelector('#df-ec7d4ddb-d138-441c-b5be-ba026298d188 button');\n",
              "      quickchartButtonEl.style.display =\n",
              "        google.colab.kernel.accessAllowed ? 'block' : 'none';\n",
              "    })();\n",
              "  </script>\n",
              "</div>\n",
              "    </div>\n",
              "  </div>\n"
            ]
          },
          "metadata": {},
          "execution_count": 21
        }
      ]
    },
    {
      "cell_type": "markdown",
      "source": [
        "**Problem & it's solve**\n",
        "\n",
        "Note i will use TweetTokenizer instead of word_tokenize that recognizes and preserves contractions as single tokens.\n",
        "\n",
        "using word_tokenize:\n",
        "\n",
        "gonna >> gon , na\n",
        "\n",
        "cant >> ca , nt\n",
        "\n",
        "to avoid this i used TweetTokenizer\n"
      ],
      "metadata": {
        "id": "fQLjJNkey5Bc"
      }
    },
    {
      "cell_type": "markdown",
      "source": [
        "/////////////it isn't done ////////////\n",
        "\n",
        "**Problem & it's solve**\n",
        "\n",
        "after avoiding word_tokenizer that divide some words\n",
        "when i use Spacy pos tagger , i faced the same problem\n",
        "so , i will fix this problem by ::\n",
        "\n",
        "Replacing the contractions in the text with their expanded forms before performing POS tagging. This way, the POS tagger will treat each word individually without splitting the contractions.\n",
        "\n",
        "\n",
        "**prefered to use this way before removing punctuation**\n",
        "\n",
        "//////////////////////"
      ],
      "metadata": {
        "id": "Qi8ygLtSRDcs"
      }
    },
    {
      "cell_type": "code",
      "source": [
        "from nltk.tokenize import TweetTokenizer\n",
        "tokenizer = TweetTokenizer()\n"
      ],
      "metadata": {
        "id": "vdeOAyYzMuvo"
      },
      "execution_count": null,
      "outputs": []
    },
    {
      "cell_type": "code",
      "source": [
        "# Function to clean text\n",
        "def text_processing(text):\n",
        "    # Convert text to lowercase\n",
        "    text = text.lower()\n",
        "\n",
        "    # Remove punctuation\n",
        "    text = remove_punc(text)\n",
        "\n",
        "    # Tokenize text (split into words)\n",
        "    # words = nltk.word_tokenize(text)\n",
        "    words = tokenizer.tokenize(text)\n",
        "    # print('wordsTokanized: ', words)\n",
        "\n",
        "    # Remove stopwords\n",
        "    words = [word for word in words if word not in stopwords.words('english')]\n",
        "    # print('Remove stopwords : ', words)\n",
        "\n",
        "    #POS Tagging\n",
        "\n",
        "    # Join words back into text\n",
        "    cleaned_text = ' '.join(words)\n",
        "\n",
        "    return cleaned_text\n"
      ],
      "metadata": {
        "id": "DnI3nBUNxyLE"
      },
      "execution_count": null,
      "outputs": []
    },
    {
      "cell_type": "code",
      "source": [
        "print('original text:' , df['Email'][60])\n",
        "ct = text_processing(df['Email'][60])\n",
        "print(ct)"
      ],
      "metadata": {
        "colab": {
          "base_uri": "https://localhost:8080/"
        },
        "id": "WRxy6yS23Z28",
        "outputId": "43331c02-8563-437d-961f-9daf202854f8"
      },
      "execution_count": null,
      "outputs": [
        {
          "output_type": "stream",
          "name": "stdout",
          "text": [
            "original text: Your gonna have to pick up a $1 burger for yourself on your way home. I can't even move. Pain is killing me.\n",
            "gonna pick 1 burger way home cant even move pain killing\n"
          ]
        }
      ]
    },
    {
      "cell_type": "code",
      "source": [
        "# Apply the text processing steps to the 'Email Column'\n",
        "df['Clean_Email'] = df['Email'].apply(lambda x: text_processing(x))\n"
      ],
      "metadata": {
        "id": "5SfCLHVz4KP2"
      },
      "execution_count": null,
      "outputs": []
    },
    {
      "cell_type": "code",
      "source": [
        "print(df.head())"
      ],
      "metadata": {
        "colab": {
          "base_uri": "https://localhost:8080/"
        },
        "id": "J1y7tX--9ejV",
        "outputId": "01d6c960-89e1-45be-9606-bf565b78e128"
      },
      "execution_count": null,
      "outputs": [
        {
          "output_type": "stream",
          "name": "stdout",
          "text": [
            "  label                                              Email  Y  \\\n",
            "0   ham  Go until jurong point, crazy.. Available only ...  0   \n",
            "1   ham                      Ok lar... Joking wif u oni...  0   \n",
            "2  spam  Free entry in 2 a wkly comp to win FA Cup fina...  1   \n",
            "3   ham  U dun say so early hor... U c already then say...  0   \n",
            "4   ham  Nah I don't think he goes to usf, he lives aro...  0   \n",
            "\n",
            "                                         Clean_Email  \n",
            "0  go jurong point crazy available bugis n great ...  \n",
            "1                            ok lar joking wif u oni  \n",
            "2  free entry 2 wkly comp win fa cup final tkts 2...  \n",
            "3                u dun say early hor u c already say  \n",
            "4        nah dont think goes usf lives around though  \n"
          ]
        }
      ]
    },
    {
      "cell_type": "markdown",
      "source": [
        "##4.Remove all characters other than alphabets"
      ],
      "metadata": {
        "id": "jOcIQ8JI9izR"
      }
    },
    {
      "cell_type": "code",
      "source": [
        "def RemoveSpecialCharacter_and_numericals(text):\n",
        "  # new_text = re.sub('[\\W_]+', ' ', text)\n",
        "  new_text = re.sub('[^A-Za-z]+', ' ', str(text))\n",
        "  return new_text"
      ],
      "metadata": {
        "id": "mtX4RxbR9jia"
      },
      "execution_count": null,
      "outputs": []
    },
    {
      "cell_type": "code",
      "source": [
        "df['Clean_Email'][60]"
      ],
      "metadata": {
        "colab": {
          "base_uri": "https://localhost:8080/",
          "height": 35
        },
        "id": "rqzczXUk_sOm",
        "outputId": "0455a293-fcfb-4616-8ea4-76fa823fe99d"
      },
      "execution_count": null,
      "outputs": [
        {
          "output_type": "execute_result",
          "data": {
            "text/plain": [
              "'gonna pick 1 burger way home cant even move pain killing'"
            ],
            "application/vnd.google.colaboratory.intrinsic+json": {
              "type": "string"
            }
          },
          "metadata": {},
          "execution_count": 28
        }
      ]
    },
    {
      "cell_type": "code",
      "source": [
        "RemoveSpecialCharacter_and_numericals(df['Clean_Email'][60])"
      ],
      "metadata": {
        "colab": {
          "base_uri": "https://localhost:8080/",
          "height": 35
        },
        "id": "rZtZZvUo_Zht",
        "outputId": "bf414981-8293-40a0-b893-b73a97feffca"
      },
      "execution_count": null,
      "outputs": [
        {
          "output_type": "execute_result",
          "data": {
            "text/plain": [
              "'gonna pick burger way home cant even move pain killing'"
            ],
            "application/vnd.google.colaboratory.intrinsic+json": {
              "type": "string"
            }
          },
          "metadata": {},
          "execution_count": 29
        }
      ]
    },
    {
      "cell_type": "code",
      "source": [
        "df['Clean_Email'] = df['Clean_Email'].apply(lambda x: RemoveSpecialCharacter_and_numericals(x))\n"
      ],
      "metadata": {
        "id": "brMBlqjYA12a"
      },
      "execution_count": null,
      "outputs": []
    },
    {
      "cell_type": "code",
      "source": [
        "df.head()"
      ],
      "metadata": {
        "colab": {
          "base_uri": "https://localhost:8080/",
          "height": 206
        },
        "id": "cWS2Oxe1E5Df",
        "outputId": "e69342ba-5bb2-4ffb-ad35-3b24a5f52299"
      },
      "execution_count": null,
      "outputs": [
        {
          "output_type": "execute_result",
          "data": {
            "text/plain": [
              "  label                                              Email  Y  \\\n",
              "0   ham  Go until jurong point, crazy.. Available only ...  0   \n",
              "1   ham                      Ok lar... Joking wif u oni...  0   \n",
              "2  spam  Free entry in 2 a wkly comp to win FA Cup fina...  1   \n",
              "3   ham  U dun say so early hor... U c already then say...  0   \n",
              "4   ham  Nah I don't think he goes to usf, he lives aro...  0   \n",
              "\n",
              "                                         Clean_Email  \n",
              "0  go jurong point crazy available bugis n great ...  \n",
              "1                            ok lar joking wif u oni  \n",
              "2  free entry wkly comp win fa cup final tkts st ...  \n",
              "3                u dun say early hor u c already say  \n",
              "4        nah dont think goes usf lives around though  "
            ],
            "text/html": [
              "\n",
              "  <div id=\"df-708010b9-bf9f-416d-8c48-08ebc2319117\" class=\"colab-df-container\">\n",
              "    <div>\n",
              "<style scoped>\n",
              "    .dataframe tbody tr th:only-of-type {\n",
              "        vertical-align: middle;\n",
              "    }\n",
              "\n",
              "    .dataframe tbody tr th {\n",
              "        vertical-align: top;\n",
              "    }\n",
              "\n",
              "    .dataframe thead th {\n",
              "        text-align: right;\n",
              "    }\n",
              "</style>\n",
              "<table border=\"1\" class=\"dataframe\">\n",
              "  <thead>\n",
              "    <tr style=\"text-align: right;\">\n",
              "      <th></th>\n",
              "      <th>label</th>\n",
              "      <th>Email</th>\n",
              "      <th>Y</th>\n",
              "      <th>Clean_Email</th>\n",
              "    </tr>\n",
              "  </thead>\n",
              "  <tbody>\n",
              "    <tr>\n",
              "      <th>0</th>\n",
              "      <td>ham</td>\n",
              "      <td>Go until jurong point, crazy.. Available only ...</td>\n",
              "      <td>0</td>\n",
              "      <td>go jurong point crazy available bugis n great ...</td>\n",
              "    </tr>\n",
              "    <tr>\n",
              "      <th>1</th>\n",
              "      <td>ham</td>\n",
              "      <td>Ok lar... Joking wif u oni...</td>\n",
              "      <td>0</td>\n",
              "      <td>ok lar joking wif u oni</td>\n",
              "    </tr>\n",
              "    <tr>\n",
              "      <th>2</th>\n",
              "      <td>spam</td>\n",
              "      <td>Free entry in 2 a wkly comp to win FA Cup fina...</td>\n",
              "      <td>1</td>\n",
              "      <td>free entry wkly comp win fa cup final tkts st ...</td>\n",
              "    </tr>\n",
              "    <tr>\n",
              "      <th>3</th>\n",
              "      <td>ham</td>\n",
              "      <td>U dun say so early hor... U c already then say...</td>\n",
              "      <td>0</td>\n",
              "      <td>u dun say early hor u c already say</td>\n",
              "    </tr>\n",
              "    <tr>\n",
              "      <th>4</th>\n",
              "      <td>ham</td>\n",
              "      <td>Nah I don't think he goes to usf, he lives aro...</td>\n",
              "      <td>0</td>\n",
              "      <td>nah dont think goes usf lives around though</td>\n",
              "    </tr>\n",
              "  </tbody>\n",
              "</table>\n",
              "</div>\n",
              "    <div class=\"colab-df-buttons\">\n",
              "\n",
              "  <div class=\"colab-df-container\">\n",
              "    <button class=\"colab-df-convert\" onclick=\"convertToInteractive('df-708010b9-bf9f-416d-8c48-08ebc2319117')\"\n",
              "            title=\"Convert this dataframe to an interactive table.\"\n",
              "            style=\"display:none;\">\n",
              "\n",
              "  <svg xmlns=\"http://www.w3.org/2000/svg\" height=\"24px\" viewBox=\"0 -960 960 960\">\n",
              "    <path d=\"M120-120v-720h720v720H120Zm60-500h600v-160H180v160Zm220 220h160v-160H400v160Zm0 220h160v-160H400v160ZM180-400h160v-160H180v160Zm440 0h160v-160H620v160ZM180-180h160v-160H180v160Zm440 0h160v-160H620v160Z\"/>\n",
              "  </svg>\n",
              "    </button>\n",
              "\n",
              "  <style>\n",
              "    .colab-df-container {\n",
              "      display:flex;\n",
              "      gap: 12px;\n",
              "    }\n",
              "\n",
              "    .colab-df-convert {\n",
              "      background-color: #E8F0FE;\n",
              "      border: none;\n",
              "      border-radius: 50%;\n",
              "      cursor: pointer;\n",
              "      display: none;\n",
              "      fill: #1967D2;\n",
              "      height: 32px;\n",
              "      padding: 0 0 0 0;\n",
              "      width: 32px;\n",
              "    }\n",
              "\n",
              "    .colab-df-convert:hover {\n",
              "      background-color: #E2EBFA;\n",
              "      box-shadow: 0px 1px 2px rgba(60, 64, 67, 0.3), 0px 1px 3px 1px rgba(60, 64, 67, 0.15);\n",
              "      fill: #174EA6;\n",
              "    }\n",
              "\n",
              "    .colab-df-buttons div {\n",
              "      margin-bottom: 4px;\n",
              "    }\n",
              "\n",
              "    [theme=dark] .colab-df-convert {\n",
              "      background-color: #3B4455;\n",
              "      fill: #D2E3FC;\n",
              "    }\n",
              "\n",
              "    [theme=dark] .colab-df-convert:hover {\n",
              "      background-color: #434B5C;\n",
              "      box-shadow: 0px 1px 3px 1px rgba(0, 0, 0, 0.15);\n",
              "      filter: drop-shadow(0px 1px 2px rgba(0, 0, 0, 0.3));\n",
              "      fill: #FFFFFF;\n",
              "    }\n",
              "  </style>\n",
              "\n",
              "    <script>\n",
              "      const buttonEl =\n",
              "        document.querySelector('#df-708010b9-bf9f-416d-8c48-08ebc2319117 button.colab-df-convert');\n",
              "      buttonEl.style.display =\n",
              "        google.colab.kernel.accessAllowed ? 'block' : 'none';\n",
              "\n",
              "      async function convertToInteractive(key) {\n",
              "        const element = document.querySelector('#df-708010b9-bf9f-416d-8c48-08ebc2319117');\n",
              "        const dataTable =\n",
              "          await google.colab.kernel.invokeFunction('convertToInteractive',\n",
              "                                                    [key], {});\n",
              "        if (!dataTable) return;\n",
              "\n",
              "        const docLinkHtml = 'Like what you see? Visit the ' +\n",
              "          '<a target=\"_blank\" href=https://colab.research.google.com/notebooks/data_table.ipynb>data table notebook</a>'\n",
              "          + ' to learn more about interactive tables.';\n",
              "        element.innerHTML = '';\n",
              "        dataTable['output_type'] = 'display_data';\n",
              "        await google.colab.output.renderOutput(dataTable, element);\n",
              "        const docLink = document.createElement('div');\n",
              "        docLink.innerHTML = docLinkHtml;\n",
              "        element.appendChild(docLink);\n",
              "      }\n",
              "    </script>\n",
              "  </div>\n",
              "\n",
              "\n",
              "<div id=\"df-d7572f4a-d0f8-4515-af4c-efe574b01734\">\n",
              "  <button class=\"colab-df-quickchart\" onclick=\"quickchart('df-d7572f4a-d0f8-4515-af4c-efe574b01734')\"\n",
              "            title=\"Suggest charts.\"\n",
              "            style=\"display:none;\">\n",
              "\n",
              "<svg xmlns=\"http://www.w3.org/2000/svg\" height=\"24px\"viewBox=\"0 0 24 24\"\n",
              "     width=\"24px\">\n",
              "    <g>\n",
              "        <path d=\"M19 3H5c-1.1 0-2 .9-2 2v14c0 1.1.9 2 2 2h14c1.1 0 2-.9 2-2V5c0-1.1-.9-2-2-2zM9 17H7v-7h2v7zm4 0h-2V7h2v10zm4 0h-2v-4h2v4z\"/>\n",
              "    </g>\n",
              "</svg>\n",
              "  </button>\n",
              "\n",
              "<style>\n",
              "  .colab-df-quickchart {\n",
              "      --bg-color: #E8F0FE;\n",
              "      --fill-color: #1967D2;\n",
              "      --hover-bg-color: #E2EBFA;\n",
              "      --hover-fill-color: #174EA6;\n",
              "      --disabled-fill-color: #AAA;\n",
              "      --disabled-bg-color: #DDD;\n",
              "  }\n",
              "\n",
              "  [theme=dark] .colab-df-quickchart {\n",
              "      --bg-color: #3B4455;\n",
              "      --fill-color: #D2E3FC;\n",
              "      --hover-bg-color: #434B5C;\n",
              "      --hover-fill-color: #FFFFFF;\n",
              "      --disabled-bg-color: #3B4455;\n",
              "      --disabled-fill-color: #666;\n",
              "  }\n",
              "\n",
              "  .colab-df-quickchart {\n",
              "    background-color: var(--bg-color);\n",
              "    border: none;\n",
              "    border-radius: 50%;\n",
              "    cursor: pointer;\n",
              "    display: none;\n",
              "    fill: var(--fill-color);\n",
              "    height: 32px;\n",
              "    padding: 0;\n",
              "    width: 32px;\n",
              "  }\n",
              "\n",
              "  .colab-df-quickchart:hover {\n",
              "    background-color: var(--hover-bg-color);\n",
              "    box-shadow: 0 1px 2px rgba(60, 64, 67, 0.3), 0 1px 3px 1px rgba(60, 64, 67, 0.15);\n",
              "    fill: var(--button-hover-fill-color);\n",
              "  }\n",
              "\n",
              "  .colab-df-quickchart-complete:disabled,\n",
              "  .colab-df-quickchart-complete:disabled:hover {\n",
              "    background-color: var(--disabled-bg-color);\n",
              "    fill: var(--disabled-fill-color);\n",
              "    box-shadow: none;\n",
              "  }\n",
              "\n",
              "  .colab-df-spinner {\n",
              "    border: 2px solid var(--fill-color);\n",
              "    border-color: transparent;\n",
              "    border-bottom-color: var(--fill-color);\n",
              "    animation:\n",
              "      spin 1s steps(1) infinite;\n",
              "  }\n",
              "\n",
              "  @keyframes spin {\n",
              "    0% {\n",
              "      border-color: transparent;\n",
              "      border-bottom-color: var(--fill-color);\n",
              "      border-left-color: var(--fill-color);\n",
              "    }\n",
              "    20% {\n",
              "      border-color: transparent;\n",
              "      border-left-color: var(--fill-color);\n",
              "      border-top-color: var(--fill-color);\n",
              "    }\n",
              "    30% {\n",
              "      border-color: transparent;\n",
              "      border-left-color: var(--fill-color);\n",
              "      border-top-color: var(--fill-color);\n",
              "      border-right-color: var(--fill-color);\n",
              "    }\n",
              "    40% {\n",
              "      border-color: transparent;\n",
              "      border-right-color: var(--fill-color);\n",
              "      border-top-color: var(--fill-color);\n",
              "    }\n",
              "    60% {\n",
              "      border-color: transparent;\n",
              "      border-right-color: var(--fill-color);\n",
              "    }\n",
              "    80% {\n",
              "      border-color: transparent;\n",
              "      border-right-color: var(--fill-color);\n",
              "      border-bottom-color: var(--fill-color);\n",
              "    }\n",
              "    90% {\n",
              "      border-color: transparent;\n",
              "      border-bottom-color: var(--fill-color);\n",
              "    }\n",
              "  }\n",
              "</style>\n",
              "\n",
              "  <script>\n",
              "    async function quickchart(key) {\n",
              "      const quickchartButtonEl =\n",
              "        document.querySelector('#' + key + ' button');\n",
              "      quickchartButtonEl.disabled = true;  // To prevent multiple clicks.\n",
              "      quickchartButtonEl.classList.add('colab-df-spinner');\n",
              "      try {\n",
              "        const charts = await google.colab.kernel.invokeFunction(\n",
              "            'suggestCharts', [key], {});\n",
              "      } catch (error) {\n",
              "        console.error('Error during call to suggestCharts:', error);\n",
              "      }\n",
              "      quickchartButtonEl.classList.remove('colab-df-spinner');\n",
              "      quickchartButtonEl.classList.add('colab-df-quickchart-complete');\n",
              "    }\n",
              "    (() => {\n",
              "      let quickchartButtonEl =\n",
              "        document.querySelector('#df-d7572f4a-d0f8-4515-af4c-efe574b01734 button');\n",
              "      quickchartButtonEl.style.display =\n",
              "        google.colab.kernel.accessAllowed ? 'block' : 'none';\n",
              "    })();\n",
              "  </script>\n",
              "</div>\n",
              "    </div>\n",
              "  </div>\n"
            ]
          },
          "metadata": {},
          "execution_count": 31
        }
      ]
    },
    {
      "cell_type": "markdown",
      "source": [
        "##Part of Speech Tagging\n",
        "\n",
        "There are two main types of part-of-speech (POS) tagging in natural language processing (NLP):\n",
        "\n",
        "1-Rule-based POS tagging\n",
        "\n",
        "2-Statistical POS tagging\n",
        "\n",
        "I will use Statistical POS tagging as it's more accurate than rule-based taggers accourding to:\n",
        "https://spotintelligence.com/2023/01/24/pos-tagging-in-nlp-python/#Types_of_POS_tagging_in_NLP\n"
      ],
      "metadata": {
        "id": "kscBdzO-Lizx"
      }
    },
    {
      "cell_type": "markdown",
      "source": [
        "**The spaCy library’s** POS tagger is based on a statistical model trained on the OntoNotes 5 corpus, and it can tag the text with high accuracy. It also can tag other features, like lemma, dependency, ner, etc."
      ],
      "metadata": {
        "id": "OKTBOqVAsith"
      }
    },
    {
      "cell_type": "code",
      "source": [
        "!python -m spacy download en_core_web_sm"
      ],
      "metadata": {
        "id": "ZfHQfd6uswS0",
        "colab": {
          "base_uri": "https://localhost:8080/"
        },
        "outputId": "f52983df-c246-41b5-ea2d-d613978a03cf"
      },
      "execution_count": null,
      "outputs": [
        {
          "output_type": "stream",
          "name": "stdout",
          "text": [
            "2023-10-28 20:32:56.164920: E tensorflow/compiler/xla/stream_executor/cuda/cuda_dnn.cc:9342] Unable to register cuDNN factory: Attempting to register factory for plugin cuDNN when one has already been registered\n",
            "2023-10-28 20:32:56.164984: E tensorflow/compiler/xla/stream_executor/cuda/cuda_fft.cc:609] Unable to register cuFFT factory: Attempting to register factory for plugin cuFFT when one has already been registered\n",
            "2023-10-28 20:32:56.165030: E tensorflow/compiler/xla/stream_executor/cuda/cuda_blas.cc:1518] Unable to register cuBLAS factory: Attempting to register factory for plugin cuBLAS when one has already been registered\n",
            "2023-10-28 20:32:56.175255: I tensorflow/core/platform/cpu_feature_guard.cc:182] This TensorFlow binary is optimized to use available CPU instructions in performance-critical operations.\n",
            "To enable the following instructions: AVX2 FMA, in other operations, rebuild TensorFlow with the appropriate compiler flags.\n",
            "2023-10-28 20:32:57.389704: W tensorflow/compiler/tf2tensorrt/utils/py_utils.cc:38] TF-TRT Warning: Could not find TensorRT\n",
            "Collecting en-core-web-sm==3.6.0\n",
            "  Downloading https://github.com/explosion/spacy-models/releases/download/en_core_web_sm-3.6.0/en_core_web_sm-3.6.0-py3-none-any.whl (12.8 MB)\n",
            "\u001b[2K     \u001b[90m━━━━━━━━━━━━━━━━━━━━━━━━━━━━━━━━━━━━━━━━\u001b[0m \u001b[32m12.8/12.8 MB\u001b[0m \u001b[31m61.3 MB/s\u001b[0m eta \u001b[36m0:00:00\u001b[0m\n",
            "\u001b[?25hRequirement already satisfied: spacy<3.7.0,>=3.6.0 in /usr/local/lib/python3.10/dist-packages (from en-core-web-sm==3.6.0) (3.6.1)\n",
            "Requirement already satisfied: spacy-legacy<3.1.0,>=3.0.11 in /usr/local/lib/python3.10/dist-packages (from spacy<3.7.0,>=3.6.0->en-core-web-sm==3.6.0) (3.0.12)\n",
            "Requirement already satisfied: spacy-loggers<2.0.0,>=1.0.0 in /usr/local/lib/python3.10/dist-packages (from spacy<3.7.0,>=3.6.0->en-core-web-sm==3.6.0) (1.0.5)\n",
            "Requirement already satisfied: murmurhash<1.1.0,>=0.28.0 in /usr/local/lib/python3.10/dist-packages (from spacy<3.7.0,>=3.6.0->en-core-web-sm==3.6.0) (1.0.10)\n",
            "Requirement already satisfied: cymem<2.1.0,>=2.0.2 in /usr/local/lib/python3.10/dist-packages (from spacy<3.7.0,>=3.6.0->en-core-web-sm==3.6.0) (2.0.8)\n",
            "Requirement already satisfied: preshed<3.1.0,>=3.0.2 in /usr/local/lib/python3.10/dist-packages (from spacy<3.7.0,>=3.6.0->en-core-web-sm==3.6.0) (3.0.9)\n",
            "Requirement already satisfied: thinc<8.2.0,>=8.1.8 in /usr/local/lib/python3.10/dist-packages (from spacy<3.7.0,>=3.6.0->en-core-web-sm==3.6.0) (8.1.12)\n",
            "Requirement already satisfied: wasabi<1.2.0,>=0.9.1 in /usr/local/lib/python3.10/dist-packages (from spacy<3.7.0,>=3.6.0->en-core-web-sm==3.6.0) (1.1.2)\n",
            "Requirement already satisfied: srsly<3.0.0,>=2.4.3 in /usr/local/lib/python3.10/dist-packages (from spacy<3.7.0,>=3.6.0->en-core-web-sm==3.6.0) (2.4.8)\n",
            "Requirement already satisfied: catalogue<2.1.0,>=2.0.6 in /usr/local/lib/python3.10/dist-packages (from spacy<3.7.0,>=3.6.0->en-core-web-sm==3.6.0) (2.0.10)\n",
            "Requirement already satisfied: typer<0.10.0,>=0.3.0 in /usr/local/lib/python3.10/dist-packages (from spacy<3.7.0,>=3.6.0->en-core-web-sm==3.6.0) (0.9.0)\n",
            "Requirement already satisfied: pathy>=0.10.0 in /usr/local/lib/python3.10/dist-packages (from spacy<3.7.0,>=3.6.0->en-core-web-sm==3.6.0) (0.10.3)\n",
            "Requirement already satisfied: smart-open<7.0.0,>=5.2.1 in /usr/local/lib/python3.10/dist-packages (from spacy<3.7.0,>=3.6.0->en-core-web-sm==3.6.0) (6.4.0)\n",
            "Requirement already satisfied: tqdm<5.0.0,>=4.38.0 in /usr/local/lib/python3.10/dist-packages (from spacy<3.7.0,>=3.6.0->en-core-web-sm==3.6.0) (4.66.1)\n",
            "Requirement already satisfied: numpy>=1.15.0 in /usr/local/lib/python3.10/dist-packages (from spacy<3.7.0,>=3.6.0->en-core-web-sm==3.6.0) (1.23.5)\n",
            "Requirement already satisfied: requests<3.0.0,>=2.13.0 in /usr/local/lib/python3.10/dist-packages (from spacy<3.7.0,>=3.6.0->en-core-web-sm==3.6.0) (2.31.0)\n",
            "Requirement already satisfied: pydantic!=1.8,!=1.8.1,<3.0.0,>=1.7.4 in /usr/local/lib/python3.10/dist-packages (from spacy<3.7.0,>=3.6.0->en-core-web-sm==3.6.0) (1.10.13)\n",
            "Requirement already satisfied: jinja2 in /usr/local/lib/python3.10/dist-packages (from spacy<3.7.0,>=3.6.0->en-core-web-sm==3.6.0) (3.1.2)\n",
            "Requirement already satisfied: setuptools in /usr/local/lib/python3.10/dist-packages (from spacy<3.7.0,>=3.6.0->en-core-web-sm==3.6.0) (67.7.2)\n",
            "Requirement already satisfied: packaging>=20.0 in /usr/local/lib/python3.10/dist-packages (from spacy<3.7.0,>=3.6.0->en-core-web-sm==3.6.0) (23.2)\n",
            "Requirement already satisfied: langcodes<4.0.0,>=3.2.0 in /usr/local/lib/python3.10/dist-packages (from spacy<3.7.0,>=3.6.0->en-core-web-sm==3.6.0) (3.3.0)\n",
            "Requirement already satisfied: typing-extensions>=4.2.0 in /usr/local/lib/python3.10/dist-packages (from pydantic!=1.8,!=1.8.1,<3.0.0,>=1.7.4->spacy<3.7.0,>=3.6.0->en-core-web-sm==3.6.0) (4.5.0)\n",
            "Requirement already satisfied: charset-normalizer<4,>=2 in /usr/local/lib/python3.10/dist-packages (from requests<3.0.0,>=2.13.0->spacy<3.7.0,>=3.6.0->en-core-web-sm==3.6.0) (3.3.1)\n",
            "Requirement already satisfied: idna<4,>=2.5 in /usr/local/lib/python3.10/dist-packages (from requests<3.0.0,>=2.13.0->spacy<3.7.0,>=3.6.0->en-core-web-sm==3.6.0) (3.4)\n",
            "Requirement already satisfied: urllib3<3,>=1.21.1 in /usr/local/lib/python3.10/dist-packages (from requests<3.0.0,>=2.13.0->spacy<3.7.0,>=3.6.0->en-core-web-sm==3.6.0) (2.0.7)\n",
            "Requirement already satisfied: certifi>=2017.4.17 in /usr/local/lib/python3.10/dist-packages (from requests<3.0.0,>=2.13.0->spacy<3.7.0,>=3.6.0->en-core-web-sm==3.6.0) (2023.7.22)\n",
            "Requirement already satisfied: blis<0.8.0,>=0.7.8 in /usr/local/lib/python3.10/dist-packages (from thinc<8.2.0,>=8.1.8->spacy<3.7.0,>=3.6.0->en-core-web-sm==3.6.0) (0.7.11)\n",
            "Requirement already satisfied: confection<1.0.0,>=0.0.1 in /usr/local/lib/python3.10/dist-packages (from thinc<8.2.0,>=8.1.8->spacy<3.7.0,>=3.6.0->en-core-web-sm==3.6.0) (0.1.3)\n",
            "Requirement already satisfied: click<9.0.0,>=7.1.1 in /usr/local/lib/python3.10/dist-packages (from typer<0.10.0,>=0.3.0->spacy<3.7.0,>=3.6.0->en-core-web-sm==3.6.0) (8.1.7)\n",
            "Requirement already satisfied: MarkupSafe>=2.0 in /usr/local/lib/python3.10/dist-packages (from jinja2->spacy<3.7.0,>=3.6.0->en-core-web-sm==3.6.0) (2.1.3)\n",
            "\u001b[38;5;2m✔ Download and installation successful\u001b[0m\n",
            "You can now load the package via spacy.load('en_core_web_sm')\n"
          ]
        }
      ]
    },
    {
      "cell_type": "code",
      "source": [
        "import spacy"
      ],
      "metadata": {
        "id": "gUSCOfKQs_N6"
      },
      "execution_count": null,
      "outputs": []
    },
    {
      "cell_type": "code",
      "source": [
        "df['Clean_Email'][0]"
      ],
      "metadata": {
        "id": "rbutspOxLq_y",
        "colab": {
          "base_uri": "https://localhost:8080/",
          "height": 35
        },
        "outputId": "4c4f51d1-9c62-45d5-8f79-2d7fe6442a97"
      },
      "execution_count": null,
      "outputs": [
        {
          "output_type": "execute_result",
          "data": {
            "text/plain": [
              "'go jurong point crazy available bugis n great world la e buffet cine got amore wat'"
            ],
            "application/vnd.google.colaboratory.intrinsic+json": {
              "type": "string"
            }
          },
          "metadata": {},
          "execution_count": 34
        }
      ]
    },
    {
      "cell_type": "code",
      "source": [
        "# Load the 'en_core_web_sm' model\n",
        "Spacy_loaded = spacy.load('en_core_web_sm')\n",
        "# Process the sentence using spaCy's NLP pipeline\n",
        "Taggs = Spacy_loaded(df['Clean_Email'][0])\n",
        "print(Taggs)\n",
        "list_tags = []\n",
        "for token in Taggs:\n",
        "  if token.text.lower() not in set(stopwords.words('english')):\n",
        "    list_tags.append(tuple([token.text, token.pos_]))\n",
        "list_tags"
      ],
      "metadata": {
        "colab": {
          "base_uri": "https://localhost:8080/"
        },
        "id": "1lYD4ur1zTsc",
        "outputId": "b4676fa9-3de0-4e92-dbde-553bd00e124f"
      },
      "execution_count": null,
      "outputs": [
        {
          "output_type": "stream",
          "name": "stdout",
          "text": [
            "go jurong point crazy available bugis n great world la e buffet cine got amore wat\n"
          ]
        },
        {
          "output_type": "execute_result",
          "data": {
            "text/plain": [
              "[('go', 'VERB'),\n",
              " ('jurong', 'ADV'),\n",
              " ('point', 'NOUN'),\n",
              " ('crazy', 'ADJ'),\n",
              " ('available', 'ADJ'),\n",
              " ('bugis', 'PROPN'),\n",
              " ('n', 'CCONJ'),\n",
              " ('great', 'ADJ'),\n",
              " ('world', 'NOUN'),\n",
              " ('la', 'PROPN'),\n",
              " ('e', 'PROPN'),\n",
              " ('buffet', 'PROPN'),\n",
              " ('cine', 'PROPN'),\n",
              " ('got', 'VERB'),\n",
              " ('amore', 'PROPN'),\n",
              " ('wat', 'NOUN')]"
            ]
          },
          "metadata": {},
          "execution_count": 35
        }
      ]
    },
    {
      "cell_type": "code",
      "source": [
        "# Load the 'en_core_web_sm' model\n",
        "Spacy_loaded = spacy.load('en_core_web_sm')\n",
        "def POS_tagging(text):\n",
        "  # Process the sentence using spaCy's NLP pipeline\n",
        "  Taggs = Spacy_loaded(text)\n",
        "  list_tags = []\n",
        "\n",
        "  for token in Taggs:\n",
        "    if token.text.lower() not in set(stopwords.words('english')):\n",
        "      list_tags.append(tuple([token.text, token.pos_]))\n",
        "  return list_tags\n",
        "\n"
      ],
      "metadata": {
        "id": "DWwkHFIxtAC4"
      },
      "execution_count": null,
      "outputs": []
    },
    {
      "cell_type": "code",
      "source": [
        "df['POS tagged'] = df['Clean_Email'].apply(lambda x : POS_tagging(x))"
      ],
      "metadata": {
        "id": "JBgqp1qsu0qL"
      },
      "execution_count": null,
      "outputs": []
    },
    {
      "cell_type": "code",
      "source": [
        "df.head()"
      ],
      "metadata": {
        "colab": {
          "base_uri": "https://localhost:8080/",
          "height": 293
        },
        "id": "Doayzhkbn_ly",
        "outputId": "c48c4b8b-6dba-41e5-810a-7e9a15eca5b3"
      },
      "execution_count": null,
      "outputs": [
        {
          "output_type": "execute_result",
          "data": {
            "text/plain": [
              "  label                                              Email  Y  \\\n",
              "0   ham  Go until jurong point, crazy.. Available only ...  0   \n",
              "1   ham                      Ok lar... Joking wif u oni...  0   \n",
              "2  spam  Free entry in 2 a wkly comp to win FA Cup fina...  1   \n",
              "3   ham  U dun say so early hor... U c already then say...  0   \n",
              "4   ham  Nah I don't think he goes to usf, he lives aro...  0   \n",
              "\n",
              "                                         Clean_Email  \\\n",
              "0  go jurong point crazy available bugis n great ...   \n",
              "1                            ok lar joking wif u oni   \n",
              "2  free entry wkly comp win fa cup final tkts st ...   \n",
              "3                u dun say early hor u c already say   \n",
              "4        nah dont think goes usf lives around though   \n",
              "\n",
              "                                          POS tagged  \n",
              "0  [(go, VERB), (jurong, ADV), (point, NOUN), (cr...  \n",
              "1  [(ok, INTJ), (lar, ADJ), (joking, VERB), (wif,...  \n",
              "2  [(free, ADJ), (entry, NOUN), (wkly, ADJ), (com...  \n",
              "3  [(u, PROPN), (dun, PROPN), (say, VERB), (early...  \n",
              "4  [(nah, INTJ), (nt, PART), (think, VERB), (goes...  "
            ],
            "text/html": [
              "\n",
              "  <div id=\"df-c3c3a625-8d50-4fa7-a5b4-d1b10bd59adc\" class=\"colab-df-container\">\n",
              "    <div>\n",
              "<style scoped>\n",
              "    .dataframe tbody tr th:only-of-type {\n",
              "        vertical-align: middle;\n",
              "    }\n",
              "\n",
              "    .dataframe tbody tr th {\n",
              "        vertical-align: top;\n",
              "    }\n",
              "\n",
              "    .dataframe thead th {\n",
              "        text-align: right;\n",
              "    }\n",
              "</style>\n",
              "<table border=\"1\" class=\"dataframe\">\n",
              "  <thead>\n",
              "    <tr style=\"text-align: right;\">\n",
              "      <th></th>\n",
              "      <th>label</th>\n",
              "      <th>Email</th>\n",
              "      <th>Y</th>\n",
              "      <th>Clean_Email</th>\n",
              "      <th>POS tagged</th>\n",
              "    </tr>\n",
              "  </thead>\n",
              "  <tbody>\n",
              "    <tr>\n",
              "      <th>0</th>\n",
              "      <td>ham</td>\n",
              "      <td>Go until jurong point, crazy.. Available only ...</td>\n",
              "      <td>0</td>\n",
              "      <td>go jurong point crazy available bugis n great ...</td>\n",
              "      <td>[(go, VERB), (jurong, ADV), (point, NOUN), (cr...</td>\n",
              "    </tr>\n",
              "    <tr>\n",
              "      <th>1</th>\n",
              "      <td>ham</td>\n",
              "      <td>Ok lar... Joking wif u oni...</td>\n",
              "      <td>0</td>\n",
              "      <td>ok lar joking wif u oni</td>\n",
              "      <td>[(ok, INTJ), (lar, ADJ), (joking, VERB), (wif,...</td>\n",
              "    </tr>\n",
              "    <tr>\n",
              "      <th>2</th>\n",
              "      <td>spam</td>\n",
              "      <td>Free entry in 2 a wkly comp to win FA Cup fina...</td>\n",
              "      <td>1</td>\n",
              "      <td>free entry wkly comp win fa cup final tkts st ...</td>\n",
              "      <td>[(free, ADJ), (entry, NOUN), (wkly, ADJ), (com...</td>\n",
              "    </tr>\n",
              "    <tr>\n",
              "      <th>3</th>\n",
              "      <td>ham</td>\n",
              "      <td>U dun say so early hor... U c already then say...</td>\n",
              "      <td>0</td>\n",
              "      <td>u dun say early hor u c already say</td>\n",
              "      <td>[(u, PROPN), (dun, PROPN), (say, VERB), (early...</td>\n",
              "    </tr>\n",
              "    <tr>\n",
              "      <th>4</th>\n",
              "      <td>ham</td>\n",
              "      <td>Nah I don't think he goes to usf, he lives aro...</td>\n",
              "      <td>0</td>\n",
              "      <td>nah dont think goes usf lives around though</td>\n",
              "      <td>[(nah, INTJ), (nt, PART), (think, VERB), (goes...</td>\n",
              "    </tr>\n",
              "  </tbody>\n",
              "</table>\n",
              "</div>\n",
              "    <div class=\"colab-df-buttons\">\n",
              "\n",
              "  <div class=\"colab-df-container\">\n",
              "    <button class=\"colab-df-convert\" onclick=\"convertToInteractive('df-c3c3a625-8d50-4fa7-a5b4-d1b10bd59adc')\"\n",
              "            title=\"Convert this dataframe to an interactive table.\"\n",
              "            style=\"display:none;\">\n",
              "\n",
              "  <svg xmlns=\"http://www.w3.org/2000/svg\" height=\"24px\" viewBox=\"0 -960 960 960\">\n",
              "    <path d=\"M120-120v-720h720v720H120Zm60-500h600v-160H180v160Zm220 220h160v-160H400v160Zm0 220h160v-160H400v160ZM180-400h160v-160H180v160Zm440 0h160v-160H620v160ZM180-180h160v-160H180v160Zm440 0h160v-160H620v160Z\"/>\n",
              "  </svg>\n",
              "    </button>\n",
              "\n",
              "  <style>\n",
              "    .colab-df-container {\n",
              "      display:flex;\n",
              "      gap: 12px;\n",
              "    }\n",
              "\n",
              "    .colab-df-convert {\n",
              "      background-color: #E8F0FE;\n",
              "      border: none;\n",
              "      border-radius: 50%;\n",
              "      cursor: pointer;\n",
              "      display: none;\n",
              "      fill: #1967D2;\n",
              "      height: 32px;\n",
              "      padding: 0 0 0 0;\n",
              "      width: 32px;\n",
              "    }\n",
              "\n",
              "    .colab-df-convert:hover {\n",
              "      background-color: #E2EBFA;\n",
              "      box-shadow: 0px 1px 2px rgba(60, 64, 67, 0.3), 0px 1px 3px 1px rgba(60, 64, 67, 0.15);\n",
              "      fill: #174EA6;\n",
              "    }\n",
              "\n",
              "    .colab-df-buttons div {\n",
              "      margin-bottom: 4px;\n",
              "    }\n",
              "\n",
              "    [theme=dark] .colab-df-convert {\n",
              "      background-color: #3B4455;\n",
              "      fill: #D2E3FC;\n",
              "    }\n",
              "\n",
              "    [theme=dark] .colab-df-convert:hover {\n",
              "      background-color: #434B5C;\n",
              "      box-shadow: 0px 1px 3px 1px rgba(0, 0, 0, 0.15);\n",
              "      filter: drop-shadow(0px 1px 2px rgba(0, 0, 0, 0.3));\n",
              "      fill: #FFFFFF;\n",
              "    }\n",
              "  </style>\n",
              "\n",
              "    <script>\n",
              "      const buttonEl =\n",
              "        document.querySelector('#df-c3c3a625-8d50-4fa7-a5b4-d1b10bd59adc button.colab-df-convert');\n",
              "      buttonEl.style.display =\n",
              "        google.colab.kernel.accessAllowed ? 'block' : 'none';\n",
              "\n",
              "      async function convertToInteractive(key) {\n",
              "        const element = document.querySelector('#df-c3c3a625-8d50-4fa7-a5b4-d1b10bd59adc');\n",
              "        const dataTable =\n",
              "          await google.colab.kernel.invokeFunction('convertToInteractive',\n",
              "                                                    [key], {});\n",
              "        if (!dataTable) return;\n",
              "\n",
              "        const docLinkHtml = 'Like what you see? Visit the ' +\n",
              "          '<a target=\"_blank\" href=https://colab.research.google.com/notebooks/data_table.ipynb>data table notebook</a>'\n",
              "          + ' to learn more about interactive tables.';\n",
              "        element.innerHTML = '';\n",
              "        dataTable['output_type'] = 'display_data';\n",
              "        await google.colab.output.renderOutput(dataTable, element);\n",
              "        const docLink = document.createElement('div');\n",
              "        docLink.innerHTML = docLinkHtml;\n",
              "        element.appendChild(docLink);\n",
              "      }\n",
              "    </script>\n",
              "  </div>\n",
              "\n",
              "\n",
              "<div id=\"df-bd87c5a3-e3c6-4b99-8da5-ac348f79a8f1\">\n",
              "  <button class=\"colab-df-quickchart\" onclick=\"quickchart('df-bd87c5a3-e3c6-4b99-8da5-ac348f79a8f1')\"\n",
              "            title=\"Suggest charts.\"\n",
              "            style=\"display:none;\">\n",
              "\n",
              "<svg xmlns=\"http://www.w3.org/2000/svg\" height=\"24px\"viewBox=\"0 0 24 24\"\n",
              "     width=\"24px\">\n",
              "    <g>\n",
              "        <path d=\"M19 3H5c-1.1 0-2 .9-2 2v14c0 1.1.9 2 2 2h14c1.1 0 2-.9 2-2V5c0-1.1-.9-2-2-2zM9 17H7v-7h2v7zm4 0h-2V7h2v10zm4 0h-2v-4h2v4z\"/>\n",
              "    </g>\n",
              "</svg>\n",
              "  </button>\n",
              "\n",
              "<style>\n",
              "  .colab-df-quickchart {\n",
              "      --bg-color: #E8F0FE;\n",
              "      --fill-color: #1967D2;\n",
              "      --hover-bg-color: #E2EBFA;\n",
              "      --hover-fill-color: #174EA6;\n",
              "      --disabled-fill-color: #AAA;\n",
              "      --disabled-bg-color: #DDD;\n",
              "  }\n",
              "\n",
              "  [theme=dark] .colab-df-quickchart {\n",
              "      --bg-color: #3B4455;\n",
              "      --fill-color: #D2E3FC;\n",
              "      --hover-bg-color: #434B5C;\n",
              "      --hover-fill-color: #FFFFFF;\n",
              "      --disabled-bg-color: #3B4455;\n",
              "      --disabled-fill-color: #666;\n",
              "  }\n",
              "\n",
              "  .colab-df-quickchart {\n",
              "    background-color: var(--bg-color);\n",
              "    border: none;\n",
              "    border-radius: 50%;\n",
              "    cursor: pointer;\n",
              "    display: none;\n",
              "    fill: var(--fill-color);\n",
              "    height: 32px;\n",
              "    padding: 0;\n",
              "    width: 32px;\n",
              "  }\n",
              "\n",
              "  .colab-df-quickchart:hover {\n",
              "    background-color: var(--hover-bg-color);\n",
              "    box-shadow: 0 1px 2px rgba(60, 64, 67, 0.3), 0 1px 3px 1px rgba(60, 64, 67, 0.15);\n",
              "    fill: var(--button-hover-fill-color);\n",
              "  }\n",
              "\n",
              "  .colab-df-quickchart-complete:disabled,\n",
              "  .colab-df-quickchart-complete:disabled:hover {\n",
              "    background-color: var(--disabled-bg-color);\n",
              "    fill: var(--disabled-fill-color);\n",
              "    box-shadow: none;\n",
              "  }\n",
              "\n",
              "  .colab-df-spinner {\n",
              "    border: 2px solid var(--fill-color);\n",
              "    border-color: transparent;\n",
              "    border-bottom-color: var(--fill-color);\n",
              "    animation:\n",
              "      spin 1s steps(1) infinite;\n",
              "  }\n",
              "\n",
              "  @keyframes spin {\n",
              "    0% {\n",
              "      border-color: transparent;\n",
              "      border-bottom-color: var(--fill-color);\n",
              "      border-left-color: var(--fill-color);\n",
              "    }\n",
              "    20% {\n",
              "      border-color: transparent;\n",
              "      border-left-color: var(--fill-color);\n",
              "      border-top-color: var(--fill-color);\n",
              "    }\n",
              "    30% {\n",
              "      border-color: transparent;\n",
              "      border-left-color: var(--fill-color);\n",
              "      border-top-color: var(--fill-color);\n",
              "      border-right-color: var(--fill-color);\n",
              "    }\n",
              "    40% {\n",
              "      border-color: transparent;\n",
              "      border-right-color: var(--fill-color);\n",
              "      border-top-color: var(--fill-color);\n",
              "    }\n",
              "    60% {\n",
              "      border-color: transparent;\n",
              "      border-right-color: var(--fill-color);\n",
              "    }\n",
              "    80% {\n",
              "      border-color: transparent;\n",
              "      border-right-color: var(--fill-color);\n",
              "      border-bottom-color: var(--fill-color);\n",
              "    }\n",
              "    90% {\n",
              "      border-color: transparent;\n",
              "      border-bottom-color: var(--fill-color);\n",
              "    }\n",
              "  }\n",
              "</style>\n",
              "\n",
              "  <script>\n",
              "    async function quickchart(key) {\n",
              "      const quickchartButtonEl =\n",
              "        document.querySelector('#' + key + ' button');\n",
              "      quickchartButtonEl.disabled = true;  // To prevent multiple clicks.\n",
              "      quickchartButtonEl.classList.add('colab-df-spinner');\n",
              "      try {\n",
              "        const charts = await google.colab.kernel.invokeFunction(\n",
              "            'suggestCharts', [key], {});\n",
              "      } catch (error) {\n",
              "        console.error('Error during call to suggestCharts:', error);\n",
              "      }\n",
              "      quickchartButtonEl.classList.remove('colab-df-spinner');\n",
              "      quickchartButtonEl.classList.add('colab-df-quickchart-complete');\n",
              "    }\n",
              "    (() => {\n",
              "      let quickchartButtonEl =\n",
              "        document.querySelector('#df-bd87c5a3-e3c6-4b99-8da5-ac348f79a8f1 button');\n",
              "      quickchartButtonEl.style.display =\n",
              "        google.colab.kernel.accessAllowed ? 'block' : 'none';\n",
              "    })();\n",
              "  </script>\n",
              "</div>\n",
              "    </div>\n",
              "  </div>\n"
            ]
          },
          "metadata": {},
          "execution_count": 38
        }
      ]
    },
    {
      "cell_type": "markdown",
      "source": [
        "##Lemmatization\n",
        "\n",
        "Lemmatization is a text pre-processing technique used in natural language processing (NLP) models to break a word down to its root meaning to identify similarities. For example, a lemmatization algorithm would reduce the word better to its root word, or lemme, good.  \n",
        "\n",
        "lemmatization is more accurate than stemming if you’re dealing with an NLP applications that understand the meaning of the dialogue , so i will use it.\n",
        "\n",
        "this is accourding to : https://builtin.com/machine-learning/lemmatization\n"
      ],
      "metadata": {
        "id": "QDQpDXLg2UOp"
      }
    },
    {
      "cell_type": "code",
      "source": [
        "from nltk.stem import WordNetLemmatizer\n",
        "wordnet_lemmatizer = WordNetLemmatizer()\n"
      ],
      "metadata": {
        "id": "SHFkxoZA2PKn"
      },
      "execution_count": null,
      "outputs": []
    },
    {
      "cell_type": "code",
      "source": [
        "def map_spacy_pos_to_wordnet_pos(spacy_pos):\n",
        "    if spacy_pos.startswith('VERB'):\n",
        "        return 'v'  # Verb\n",
        "    elif spacy_pos.startswith('NOUN') or spacy_pos == 'PROPN':\n",
        "        return 'n'  # Noun\n",
        "    elif spacy_pos.startswith('ADJ'):\n",
        "        return 'a'  # Adjective\n",
        "    elif spacy_pos.startswith('ADV'):\n",
        "        return 'r'  # Adverb\n",
        "    else:\n",
        "        return 'n' # Default to noun if not found"
      ],
      "metadata": {
        "id": "diOebUsgIOlL"
      },
      "execution_count": null,
      "outputs": []
    },
    {
      "cell_type": "code",
      "source": [
        "def _Lemma(PosTaggingList_of_sentance):\n",
        "  lemma_text = \"\"\n",
        "  for word , tag in PosTaggingList_of_sentance:\n",
        "    tag = map_spacy_pos_to_wordnet_pos(tag)\n",
        "    # print('word = ', word, 'tag = ', tag)\n",
        "    lemma = wordnet_lemmatizer.lemmatize(word, pos=tag)\n",
        "    lemma_text += lemma + \" \"\n",
        "    # print(lemma_text)\n",
        "\n",
        "  return lemma_text\n"
      ],
      "metadata": {
        "id": "D8Im6-GU2iCF"
      },
      "execution_count": null,
      "outputs": []
    },
    {
      "cell_type": "code",
      "source": [
        "print(df['Email'][60])\n",
        "print(df['Clean_Email'][60])\n",
        "print(df['POS tagged'][60])\n",
        "lem= _Lemma(df['POS tagged'][60])\n",
        "print(lem)\n",
        "\n"
      ],
      "metadata": {
        "colab": {
          "base_uri": "https://localhost:8080/"
        },
        "id": "PHIKe24mEljz",
        "outputId": "9be6821a-b950-4530-a6eb-1ec435a26b86"
      },
      "execution_count": null,
      "outputs": [
        {
          "output_type": "stream",
          "name": "stdout",
          "text": [
            "Your gonna have to pick up a $1 burger for yourself on your way home. I can't even move. Pain is killing me.\n",
            "gonna pick burger way home cant even move pain killing\n",
            "[('gon', 'VERB'), ('na', 'PART'), ('pick', 'VERB'), ('burger', 'NOUN'), ('way', 'NOUN'), ('home', 'NOUN'), ('ca', 'AUX'), ('nt', 'PART'), ('even', 'ADV'), ('move', 'VERB'), ('pain', 'NOUN'), ('killing', 'NOUN')]\n",
            "gon na pick burger way home ca nt even move pain killing \n"
          ]
        }
      ]
    },
    {
      "cell_type": "code",
      "source": [
        "df['lemma'] = df['POS tagged'].apply(lambda x : _Lemma(x))"
      ],
      "metadata": {
        "id": "ZHUvaFMZVv8B"
      },
      "execution_count": null,
      "outputs": []
    },
    {
      "cell_type": "code",
      "source": [
        "df.head()"
      ],
      "metadata": {
        "colab": {
          "base_uri": "https://localhost:8080/",
          "height": 327
        },
        "id": "GX1jKqGOWiyk",
        "outputId": "7f83e805-ff7d-496d-ca5e-57b38bb61778"
      },
      "execution_count": null,
      "outputs": [
        {
          "output_type": "execute_result",
          "data": {
            "text/plain": [
              "  label                                              Email  Y  \\\n",
              "0   ham  Go until jurong point, crazy.. Available only ...  0   \n",
              "1   ham                      Ok lar... Joking wif u oni...  0   \n",
              "2  spam  Free entry in 2 a wkly comp to win FA Cup fina...  1   \n",
              "3   ham  U dun say so early hor... U c already then say...  0   \n",
              "4   ham  Nah I don't think he goes to usf, he lives aro...  0   \n",
              "\n",
              "                                         Clean_Email  \\\n",
              "0  go jurong point crazy available bugis n great ...   \n",
              "1                            ok lar joking wif u oni   \n",
              "2  free entry wkly comp win fa cup final tkts st ...   \n",
              "3                u dun say early hor u c already say   \n",
              "4        nah dont think goes usf lives around though   \n",
              "\n",
              "                                          POS tagged  \\\n",
              "0  [(go, VERB), (jurong, ADV), (point, NOUN), (cr...   \n",
              "1  [(ok, INTJ), (lar, ADJ), (joking, VERB), (wif,...   \n",
              "2  [(free, ADJ), (entry, NOUN), (wkly, ADJ), (com...   \n",
              "3  [(u, PROPN), (dun, PROPN), (say, VERB), (early...   \n",
              "4  [(nah, INTJ), (nt, PART), (think, VERB), (goes...   \n",
              "\n",
              "                                               lemma  \n",
              "0  go jurong point crazy available bugis n great ...  \n",
              "1                             ok lar joke wif u oni   \n",
              "2  free entry wkly comp win fa cup final tkts st ...  \n",
              "3               u dun say early hor u c already say   \n",
              "4            nah nt think go usf live around though   "
            ],
            "text/html": [
              "\n",
              "  <div id=\"df-73b9372e-a926-4a7f-b630-df61bfe9607b\" class=\"colab-df-container\">\n",
              "    <div>\n",
              "<style scoped>\n",
              "    .dataframe tbody tr th:only-of-type {\n",
              "        vertical-align: middle;\n",
              "    }\n",
              "\n",
              "    .dataframe tbody tr th {\n",
              "        vertical-align: top;\n",
              "    }\n",
              "\n",
              "    .dataframe thead th {\n",
              "        text-align: right;\n",
              "    }\n",
              "</style>\n",
              "<table border=\"1\" class=\"dataframe\">\n",
              "  <thead>\n",
              "    <tr style=\"text-align: right;\">\n",
              "      <th></th>\n",
              "      <th>label</th>\n",
              "      <th>Email</th>\n",
              "      <th>Y</th>\n",
              "      <th>Clean_Email</th>\n",
              "      <th>POS tagged</th>\n",
              "      <th>lemma</th>\n",
              "    </tr>\n",
              "  </thead>\n",
              "  <tbody>\n",
              "    <tr>\n",
              "      <th>0</th>\n",
              "      <td>ham</td>\n",
              "      <td>Go until jurong point, crazy.. Available only ...</td>\n",
              "      <td>0</td>\n",
              "      <td>go jurong point crazy available bugis n great ...</td>\n",
              "      <td>[(go, VERB), (jurong, ADV), (point, NOUN), (cr...</td>\n",
              "      <td>go jurong point crazy available bugis n great ...</td>\n",
              "    </tr>\n",
              "    <tr>\n",
              "      <th>1</th>\n",
              "      <td>ham</td>\n",
              "      <td>Ok lar... Joking wif u oni...</td>\n",
              "      <td>0</td>\n",
              "      <td>ok lar joking wif u oni</td>\n",
              "      <td>[(ok, INTJ), (lar, ADJ), (joking, VERB), (wif,...</td>\n",
              "      <td>ok lar joke wif u oni</td>\n",
              "    </tr>\n",
              "    <tr>\n",
              "      <th>2</th>\n",
              "      <td>spam</td>\n",
              "      <td>Free entry in 2 a wkly comp to win FA Cup fina...</td>\n",
              "      <td>1</td>\n",
              "      <td>free entry wkly comp win fa cup final tkts st ...</td>\n",
              "      <td>[(free, ADJ), (entry, NOUN), (wkly, ADJ), (com...</td>\n",
              "      <td>free entry wkly comp win fa cup final tkts st ...</td>\n",
              "    </tr>\n",
              "    <tr>\n",
              "      <th>3</th>\n",
              "      <td>ham</td>\n",
              "      <td>U dun say so early hor... U c already then say...</td>\n",
              "      <td>0</td>\n",
              "      <td>u dun say early hor u c already say</td>\n",
              "      <td>[(u, PROPN), (dun, PROPN), (say, VERB), (early...</td>\n",
              "      <td>u dun say early hor u c already say</td>\n",
              "    </tr>\n",
              "    <tr>\n",
              "      <th>4</th>\n",
              "      <td>ham</td>\n",
              "      <td>Nah I don't think he goes to usf, he lives aro...</td>\n",
              "      <td>0</td>\n",
              "      <td>nah dont think goes usf lives around though</td>\n",
              "      <td>[(nah, INTJ), (nt, PART), (think, VERB), (goes...</td>\n",
              "      <td>nah nt think go usf live around though</td>\n",
              "    </tr>\n",
              "  </tbody>\n",
              "</table>\n",
              "</div>\n",
              "    <div class=\"colab-df-buttons\">\n",
              "\n",
              "  <div class=\"colab-df-container\">\n",
              "    <button class=\"colab-df-convert\" onclick=\"convertToInteractive('df-73b9372e-a926-4a7f-b630-df61bfe9607b')\"\n",
              "            title=\"Convert this dataframe to an interactive table.\"\n",
              "            style=\"display:none;\">\n",
              "\n",
              "  <svg xmlns=\"http://www.w3.org/2000/svg\" height=\"24px\" viewBox=\"0 -960 960 960\">\n",
              "    <path d=\"M120-120v-720h720v720H120Zm60-500h600v-160H180v160Zm220 220h160v-160H400v160Zm0 220h160v-160H400v160ZM180-400h160v-160H180v160Zm440 0h160v-160H620v160ZM180-180h160v-160H180v160Zm440 0h160v-160H620v160Z\"/>\n",
              "  </svg>\n",
              "    </button>\n",
              "\n",
              "  <style>\n",
              "    .colab-df-container {\n",
              "      display:flex;\n",
              "      gap: 12px;\n",
              "    }\n",
              "\n",
              "    .colab-df-convert {\n",
              "      background-color: #E8F0FE;\n",
              "      border: none;\n",
              "      border-radius: 50%;\n",
              "      cursor: pointer;\n",
              "      display: none;\n",
              "      fill: #1967D2;\n",
              "      height: 32px;\n",
              "      padding: 0 0 0 0;\n",
              "      width: 32px;\n",
              "    }\n",
              "\n",
              "    .colab-df-convert:hover {\n",
              "      background-color: #E2EBFA;\n",
              "      box-shadow: 0px 1px 2px rgba(60, 64, 67, 0.3), 0px 1px 3px 1px rgba(60, 64, 67, 0.15);\n",
              "      fill: #174EA6;\n",
              "    }\n",
              "\n",
              "    .colab-df-buttons div {\n",
              "      margin-bottom: 4px;\n",
              "    }\n",
              "\n",
              "    [theme=dark] .colab-df-convert {\n",
              "      background-color: #3B4455;\n",
              "      fill: #D2E3FC;\n",
              "    }\n",
              "\n",
              "    [theme=dark] .colab-df-convert:hover {\n",
              "      background-color: #434B5C;\n",
              "      box-shadow: 0px 1px 3px 1px rgba(0, 0, 0, 0.15);\n",
              "      filter: drop-shadow(0px 1px 2px rgba(0, 0, 0, 0.3));\n",
              "      fill: #FFFFFF;\n",
              "    }\n",
              "  </style>\n",
              "\n",
              "    <script>\n",
              "      const buttonEl =\n",
              "        document.querySelector('#df-73b9372e-a926-4a7f-b630-df61bfe9607b button.colab-df-convert');\n",
              "      buttonEl.style.display =\n",
              "        google.colab.kernel.accessAllowed ? 'block' : 'none';\n",
              "\n",
              "      async function convertToInteractive(key) {\n",
              "        const element = document.querySelector('#df-73b9372e-a926-4a7f-b630-df61bfe9607b');\n",
              "        const dataTable =\n",
              "          await google.colab.kernel.invokeFunction('convertToInteractive',\n",
              "                                                    [key], {});\n",
              "        if (!dataTable) return;\n",
              "\n",
              "        const docLinkHtml = 'Like what you see? Visit the ' +\n",
              "          '<a target=\"_blank\" href=https://colab.research.google.com/notebooks/data_table.ipynb>data table notebook</a>'\n",
              "          + ' to learn more about interactive tables.';\n",
              "        element.innerHTML = '';\n",
              "        dataTable['output_type'] = 'display_data';\n",
              "        await google.colab.output.renderOutput(dataTable, element);\n",
              "        const docLink = document.createElement('div');\n",
              "        docLink.innerHTML = docLinkHtml;\n",
              "        element.appendChild(docLink);\n",
              "      }\n",
              "    </script>\n",
              "  </div>\n",
              "\n",
              "\n",
              "<div id=\"df-9e272392-a219-4861-92be-7540072457e1\">\n",
              "  <button class=\"colab-df-quickchart\" onclick=\"quickchart('df-9e272392-a219-4861-92be-7540072457e1')\"\n",
              "            title=\"Suggest charts.\"\n",
              "            style=\"display:none;\">\n",
              "\n",
              "<svg xmlns=\"http://www.w3.org/2000/svg\" height=\"24px\"viewBox=\"0 0 24 24\"\n",
              "     width=\"24px\">\n",
              "    <g>\n",
              "        <path d=\"M19 3H5c-1.1 0-2 .9-2 2v14c0 1.1.9 2 2 2h14c1.1 0 2-.9 2-2V5c0-1.1-.9-2-2-2zM9 17H7v-7h2v7zm4 0h-2V7h2v10zm4 0h-2v-4h2v4z\"/>\n",
              "    </g>\n",
              "</svg>\n",
              "  </button>\n",
              "\n",
              "<style>\n",
              "  .colab-df-quickchart {\n",
              "      --bg-color: #E8F0FE;\n",
              "      --fill-color: #1967D2;\n",
              "      --hover-bg-color: #E2EBFA;\n",
              "      --hover-fill-color: #174EA6;\n",
              "      --disabled-fill-color: #AAA;\n",
              "      --disabled-bg-color: #DDD;\n",
              "  }\n",
              "\n",
              "  [theme=dark] .colab-df-quickchart {\n",
              "      --bg-color: #3B4455;\n",
              "      --fill-color: #D2E3FC;\n",
              "      --hover-bg-color: #434B5C;\n",
              "      --hover-fill-color: #FFFFFF;\n",
              "      --disabled-bg-color: #3B4455;\n",
              "      --disabled-fill-color: #666;\n",
              "  }\n",
              "\n",
              "  .colab-df-quickchart {\n",
              "    background-color: var(--bg-color);\n",
              "    border: none;\n",
              "    border-radius: 50%;\n",
              "    cursor: pointer;\n",
              "    display: none;\n",
              "    fill: var(--fill-color);\n",
              "    height: 32px;\n",
              "    padding: 0;\n",
              "    width: 32px;\n",
              "  }\n",
              "\n",
              "  .colab-df-quickchart:hover {\n",
              "    background-color: var(--hover-bg-color);\n",
              "    box-shadow: 0 1px 2px rgba(60, 64, 67, 0.3), 0 1px 3px 1px rgba(60, 64, 67, 0.15);\n",
              "    fill: var(--button-hover-fill-color);\n",
              "  }\n",
              "\n",
              "  .colab-df-quickchart-complete:disabled,\n",
              "  .colab-df-quickchart-complete:disabled:hover {\n",
              "    background-color: var(--disabled-bg-color);\n",
              "    fill: var(--disabled-fill-color);\n",
              "    box-shadow: none;\n",
              "  }\n",
              "\n",
              "  .colab-df-spinner {\n",
              "    border: 2px solid var(--fill-color);\n",
              "    border-color: transparent;\n",
              "    border-bottom-color: var(--fill-color);\n",
              "    animation:\n",
              "      spin 1s steps(1) infinite;\n",
              "  }\n",
              "\n",
              "  @keyframes spin {\n",
              "    0% {\n",
              "      border-color: transparent;\n",
              "      border-bottom-color: var(--fill-color);\n",
              "      border-left-color: var(--fill-color);\n",
              "    }\n",
              "    20% {\n",
              "      border-color: transparent;\n",
              "      border-left-color: var(--fill-color);\n",
              "      border-top-color: var(--fill-color);\n",
              "    }\n",
              "    30% {\n",
              "      border-color: transparent;\n",
              "      border-left-color: var(--fill-color);\n",
              "      border-top-color: var(--fill-color);\n",
              "      border-right-color: var(--fill-color);\n",
              "    }\n",
              "    40% {\n",
              "      border-color: transparent;\n",
              "      border-right-color: var(--fill-color);\n",
              "      border-top-color: var(--fill-color);\n",
              "    }\n",
              "    60% {\n",
              "      border-color: transparent;\n",
              "      border-right-color: var(--fill-color);\n",
              "    }\n",
              "    80% {\n",
              "      border-color: transparent;\n",
              "      border-right-color: var(--fill-color);\n",
              "      border-bottom-color: var(--fill-color);\n",
              "    }\n",
              "    90% {\n",
              "      border-color: transparent;\n",
              "      border-bottom-color: var(--fill-color);\n",
              "    }\n",
              "  }\n",
              "</style>\n",
              "\n",
              "  <script>\n",
              "    async function quickchart(key) {\n",
              "      const quickchartButtonEl =\n",
              "        document.querySelector('#' + key + ' button');\n",
              "      quickchartButtonEl.disabled = true;  // To prevent multiple clicks.\n",
              "      quickchartButtonEl.classList.add('colab-df-spinner');\n",
              "      try {\n",
              "        const charts = await google.colab.kernel.invokeFunction(\n",
              "            'suggestCharts', [key], {});\n",
              "      } catch (error) {\n",
              "        console.error('Error during call to suggestCharts:', error);\n",
              "      }\n",
              "      quickchartButtonEl.classList.remove('colab-df-spinner');\n",
              "      quickchartButtonEl.classList.add('colab-df-quickchart-complete');\n",
              "    }\n",
              "    (() => {\n",
              "      let quickchartButtonEl =\n",
              "        document.querySelector('#df-9e272392-a219-4861-92be-7540072457e1 button');\n",
              "      quickchartButtonEl.style.display =\n",
              "        google.colab.kernel.accessAllowed ? 'block' : 'none';\n",
              "    })();\n",
              "  </script>\n",
              "</div>\n",
              "    </div>\n",
              "  </div>\n"
            ]
          },
          "metadata": {},
          "execution_count": 44
        }
      ]
    },
    {
      "cell_type": "markdown",
      "source": [
        "#Loud Words in Spam Email\n",
        "\n",
        "generate a word cloud visualization based on the provided text data, where more frequently occurring words are displayed in larger font sizes.\n",
        "\n"
      ],
      "metadata": {
        "id": "jrz9W3eAksQn"
      }
    },
    {
      "cell_type": "code",
      "source": [
        "from wordcloud import WordCloud, STOPWORDS\n",
        "\n",
        "stopwords = set(STOPWORDS)\n",
        "\n",
        "def show_wordcloud(data):\n",
        "    wordcloud = WordCloud(\n",
        "        background_color='white',\n",
        "        stopwords=stopwords,\n",
        "        max_words=100,\n",
        "        max_font_size=40,\n",
        "        scale=3,\n",
        "        random_state=1)\n",
        "\n",
        "    wordcloud=wordcloud.generate(str(data))\n",
        "\n",
        "    fig = plt.figure(1, figsize=(12, 10))\n",
        "    plt.axis('off')\n",
        "\n",
        "    plt.imshow(wordcloud)\n",
        "    plt.show()\n",
        "\n",
        "df_lemma = df.lemma\n",
        "show_wordcloud(df_lemma)"
      ],
      "metadata": {
        "colab": {
          "base_uri": "https://localhost:8080/",
          "height": 454
        },
        "id": "7yWKO78rfvkE",
        "outputId": "f9b87606-8646-404e-91d2-3ef96023fb7d"
      },
      "execution_count": null,
      "outputs": [
        {
          "output_type": "display_data",
          "data": {
            "text/plain": [
              "<Figure size 1200x1000 with 1 Axes>"
            ],
            "image/png": "[encoded data removed]"
          },
          "metadata": {}
        }
      ]
    },
    {
      "cell_type": "markdown",
      "source": [
        "#Data splitting"
      ],
      "metadata": {
        "id": "pzuq25J12D1p"
      }
    },
    {
      "cell_type": "code",
      "source": [
        "from sklearn.model_selection import train_test_split"
      ],
      "metadata": {
        "id": "pieXWmAKMToC"
      },
      "execution_count": null,
      "outputs": []
    },
    {
      "cell_type": "code",
      "source": [
        "x = df['lemma']\n",
        "y = df['Y']"
      ],
      "metadata": {
        "id": "PtI1b0UbMYco"
      },
      "execution_count": null,
      "outputs": []
    },
    {
      "cell_type": "code",
      "source": [
        "type(y[0])"
      ],
      "metadata": {
        "colab": {
          "base_uri": "https://localhost:8080/"
        },
        "id": "bI03cP2-7iXD",
        "outputId": "d43ae541-8e86-4266-8fe2-0263e4654009"
      },
      "execution_count": null,
      "outputs": [
        {
          "output_type": "execute_result",
          "data": {
            "text/plain": [
              "numpy.int64"
            ]
          },
          "metadata": {},
          "execution_count": 48
        }
      ]
    },
    {
      "cell_type": "code",
      "source": [
        "# split into 70:30 ration\n",
        "X_train, X_test, y_train, y_test = train_test_split(x, y, test_size = 0.3, random_state = 0)"
      ],
      "metadata": {
        "id": "kFzFYg0mMRhk"
      },
      "execution_count": null,
      "outputs": []
    },
    {
      "cell_type": "code",
      "source": [
        "# describes info about train and test set\n",
        "print(\"Number transactions X_train dataset: \", X_train.shape)\n",
        "print(\"Number transactions y_train dataset: \", y_train.shape)\n",
        "print(\"Number transactions X_test dataset: \", X_test.shape)\n",
        "print(\"Number transactions y_test dataset: \", y_test.shape)"
      ],
      "metadata": {
        "colab": {
          "base_uri": "https://localhost:8080/"
        },
        "id": "_pLGpyACM3QA",
        "outputId": "75675d2b-9a57-4c4c-f2a0-34d545f48192"
      },
      "execution_count": null,
      "outputs": [
        {
          "output_type": "stream",
          "name": "stdout",
          "text": [
            "Number transactions X_train dataset:  (3900,)\n",
            "Number transactions y_train dataset:  (3900,)\n",
            "Number transactions X_test dataset:  (1672,)\n",
            "Number transactions y_test dataset:  (1672,)\n"
          ]
        }
      ]
    },
    {
      "cell_type": "markdown",
      "source": [
        "# Feature Extraction\n",
        "\n",
        "Is the process of transforming the raw text into a numerical representation that can be processed by computers.\n",
        "\n",
        "##**TF-IDF**\n",
        "\n",
        "It is primarily used to measure the importance of a term within a document or a corpus of documents. While TF-IDF is often applied at the lexical level, it is not limited to it and can be used at different levels of analysis.\n"
      ],
      "metadata": {
        "id": "F5gB2fbcYpCT"
      }
    },
    {
      "cell_type": "code",
      "source": [
        "from sklearn.feature_extraction.text import TfidfVectorizer\n"
      ],
      "metadata": {
        "id": "1wwT7Upi593h"
      },
      "execution_count": null,
      "outputs": []
    },
    {
      "cell_type": "code",
      "source": [
        "print(X_train.shape)\n",
        "print(X_test.shape)"
      ],
      "metadata": {
        "colab": {
          "base_uri": "https://localhost:8080/"
        },
        "id": "4Ed6yNpTRnwI",
        "outputId": "43210b24-f547-4084-85d2-b575fe6a4857"
      },
      "execution_count": null,
      "outputs": [
        {
          "output_type": "stream",
          "name": "stdout",
          "text": [
            "(3900,)\n",
            "(1672,)\n"
          ]
        }
      ]
    },
    {
      "cell_type": "code",
      "source": [
        "'this code is not right'\n",
        "# # get tf-df values\n",
        "# x_train_features = TF_IDF.fit_transform(X_train)\n",
        "# x_test_features =  TF_IDF.fit_transform(X_test)\n"
      ],
      "metadata": {
        "id": "5WikcBCu6ASw",
        "colab": {
          "base_uri": "https://localhost:8080/",
          "height": 35
        },
        "outputId": "e81e05be-f1bc-4342-961c-e09cdd2a64a1"
      },
      "execution_count": null,
      "outputs": [
        {
          "output_type": "execute_result",
          "data": {
            "text/plain": [
              "'this code is not right'"
            ],
            "application/vnd.google.colaboratory.intrinsic+json": {
              "type": "string"
            }
          },
          "metadata": {},
          "execution_count": 53
        }
      ]
    },
    {
      "cell_type": "markdown",
      "source": [
        "**make sure that ::**\n",
        "\n",
        " After fitting the vectorizer on the training data, you need to apply the **same transformation to the test data using the transform method** of the vectorizer. This will ensure that the test data is represented using the same features as the training data."
      ],
      "metadata": {
        "id": "OjXr2QuAVBd4"
      }
    },
    {
      "cell_type": "code",
      "source": [
        "# Create a TF-IDF vectorizer and fit it on the training data\n",
        "vectorizer = TfidfVectorizer()\n",
        "X_train_tfidf = vectorizer.fit_transform(X_train)\n",
        "\n",
        "# Transform the test data using the trained vectorizer\n",
        "X_test_tfidf = vectorizer.transform(X_test)\n"
      ],
      "metadata": {
        "id": "8FXui7ygUycl"
      },
      "execution_count": null,
      "outputs": []
    },
    {
      "cell_type": "code",
      "source": [
        "print(X_train_tfidf.shape)\n",
        "print(X_test_tfidf.shape)"
      ],
      "metadata": {
        "id": "e1ZCUziW6ph1",
        "colab": {
          "base_uri": "https://localhost:8080/"
        },
        "outputId": "ca001d05-667e-4aed-809d-de6c8e2552b6"
      },
      "execution_count": null,
      "outputs": [
        {
          "output_type": "stream",
          "name": "stdout",
          "text": [
            "(3900, 5912)\n",
            "(1672, 5912)\n"
          ]
        }
      ]
    },
    {
      "cell_type": "code",
      "source": [
        "print(print(X_train_tfidf[0]))"
      ],
      "metadata": {
        "colab": {
          "base_uri": "https://localhost:8080/"
        },
        "id": "ee0ww8pz8Gaf",
        "outputId": "1252a01d-c5c9-4988-beae-cb38873b3d7b"
      },
      "execution_count": null,
      "outputs": [
        {
          "output_type": "stream",
          "name": "stdout",
          "text": [
            "  (0, 192)\t0.5058721277396868\n",
            "  (0, 1488)\t0.4819545322210031\n",
            "  (0, 4958)\t0.5058721277396868\n",
            "  (0, 3033)\t0.5058721277396868\n",
            "None\n"
          ]
        }
      ]
    },
    {
      "cell_type": "markdown",
      "source": [
        "![image.png](data:image/png;base64,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)"
      ],
      "metadata": {
        "id": "g8vLMzSt8rfJ"
      }
    },
    {
      "cell_type": "code",
      "source": [],
      "metadata": {
        "id": "Z_Hke5oJ9f1G"
      },
      "execution_count": null,
      "outputs": []
    },
    {
      "cell_type": "markdown",
      "source": [
        "#Balancing the Dataset using SMOTE algorithm\n",
        "\n"
      ],
      "metadata": {
        "id": "9tWJqn_xMp2o"
      }
    },
    {
      "cell_type": "code",
      "source": [
        "print((y_train==0).sum())\n",
        "print((y_train==1).sum())\n",
        "\n",
        "print((y_test==0).sum())\n",
        "print((y_test==1).sum())\n",
        "print('-------------------------------')\n",
        "print(len(X_train))\n",
        "print(len(y_train))\n",
        "print(len(X_test))\n",
        "print(len(y_test))"
      ],
      "metadata": {
        "colab": {
          "base_uri": "https://localhost:8080/"
        },
        "id": "ZL0lCLNh2G8B",
        "outputId": "bc6fe579-c3f0-41af-8711-85c016dc56b9"
      },
      "execution_count": null,
      "outputs": [
        {
          "output_type": "stream",
          "name": "stdout",
          "text": [
            "3391\n",
            "509\n",
            "1434\n",
            "238\n",
            "-------------------------------\n",
            "3900\n",
            "3900\n",
            "1672\n",
            "1672\n"
          ]
        }
      ]
    },
    {
      "cell_type": "markdown",
      "source": [
        "I chose to use **SMOTE algorithm**\n",
        "where it is an oversampling method to solve the imbalance problem.\n",
        "It aims to balance class distribution by randomly increasing minority class examples by replicating them.\n"
      ],
      "metadata": {
        "id": "nqF5uQ41KH4_"
      }
    },
    {
      "cell_type": "markdown",
      "source": [
        "The SMOTE algorithm requires numerical input, so i used tf-idf results"
      ],
      "metadata": {
        "id": "TcXmlOekTqFg"
      }
    },
    {
      "cell_type": "code",
      "source": [
        "from imblearn.over_sampling import SMOTE"
      ],
      "metadata": {
        "id": "ICE3dJI5-UWX"
      },
      "execution_count": null,
      "outputs": []
    },
    {
      "cell_type": "code",
      "source": [
        "sm = SMOTE(random_state = 40)\n",
        "X_train_res, y_train_res = sm.fit_resample(X_train_tfidf, y_train.ravel())"
      ],
      "metadata": {
        "id": "hQ13Rv-3T-4z"
      },
      "execution_count": null,
      "outputs": []
    },
    {
      "cell_type": "code",
      "source": [
        "X_train_res.shape"
      ],
      "metadata": {
        "colab": {
          "base_uri": "https://localhost:8080/"
        },
        "id": "ydgMfd86NCTP",
        "outputId": "0eb6702a-d420-4a62-ebe9-f6695d43ba0c"
      },
      "execution_count": null,
      "outputs": [
        {
          "output_type": "execute_result",
          "data": {
            "text/plain": [
              "(6782, 5912)"
            ]
          },
          "metadata": {},
          "execution_count": 60
        }
      ]
    },
    {
      "cell_type": "code",
      "source": [
        "y_train_res.shape"
      ],
      "metadata": {
        "colab": {
          "base_uri": "https://localhost:8080/"
        },
        "id": "IKS0WnQ0OEf7",
        "outputId": "fb1813f8-fafb-4b7b-9f39-d95adf66c41c"
      },
      "execution_count": null,
      "outputs": [
        {
          "output_type": "execute_result",
          "data": {
            "text/plain": [
              "(6782,)"
            ]
          },
          "metadata": {},
          "execution_count": 61
        }
      ]
    },
    {
      "cell_type": "code",
      "source": [
        "print((y_train_res == 1).sum())\n",
        "print((y_train_res == 0).sum())"
      ],
      "metadata": {
        "id": "ecCRCYnNleGf",
        "colab": {
          "base_uri": "https://localhost:8080/"
        },
        "outputId": "87f594e5-7ed5-4339-e928-6c138f35e104"
      },
      "execution_count": null,
      "outputs": [
        {
          "output_type": "stream",
          "name": "stdout",
          "text": [
            "3391\n",
            "3391\n"
          ]
        }
      ]
    },
    {
      "cell_type": "markdown",
      "source": [
        "Now you can see that training data is balanced.\n",
        "\n",
        "it is not necessary to balance the test data as well.\n",
        "\n",
        "The purpose of balancing the training data is to help the model learn from both classes more effectively and avoid biases towards the majority class. By oversampling the minority class."
      ],
      "metadata": {
        "id": "BbPfTs54A01V"
      }
    },
    {
      "cell_type": "markdown",
      "source": [
        "# Models Development"
      ],
      "metadata": {
        "id": "5LxKq44tCkhM"
      }
    },
    {
      "cell_type": "code",
      "source": [
        "Accu_imbal = []\n",
        "Accu_bal = []\n"
      ],
      "metadata": {
        "id": "DVRgptNLdiSA"
      },
      "execution_count": null,
      "outputs": []
    },
    {
      "cell_type": "code",
      "source": [
        "from sklearn.linear_model import LogisticRegression\n",
        "\n",
        "from sklearn.ensemble import RandomForestClassifier\n",
        "from sklearn import metrics\n",
        "from sklearn.metrics import accuracy_score,confusion_matrix,classification_report"
      ],
      "metadata": {
        "id": "lTE4y70rCniH"
      },
      "execution_count": null,
      "outputs": []
    },
    {
      "cell_type": "markdown",
      "source": [
        "##Random Forest classifier"
      ],
      "metadata": {
        "id": "_JkRe03uDPeL"
      }
    },
    {
      "cell_type": "markdown",
      "source": [
        "###balanced dataset"
      ],
      "metadata": {
        "id": "qqkpIy8HPz7g"
      }
    },
    {
      "cell_type": "code",
      "source": [
        "X_train_res.shape"
      ],
      "metadata": {
        "colab": {
          "base_uri": "https://localhost:8080/"
        },
        "id": "TNBVFs_UQraC",
        "outputId": "b5b1c1dd-ef12-422d-9fea-ccfca01080cf"
      },
      "execution_count": null,
      "outputs": [
        {
          "output_type": "execute_result",
          "data": {
            "text/plain": [
              "(6782, 5912)"
            ]
          },
          "metadata": {},
          "execution_count": 65
        }
      ]
    },
    {
      "cell_type": "code",
      "source": [
        "y_train_res.shape"
      ],
      "metadata": {
        "colab": {
          "base_uri": "https://localhost:8080/"
        },
        "id": "DaFRaptWQprG",
        "outputId": "f22252d2-f194-4a4d-9602-2d3115610930"
      },
      "execution_count": null,
      "outputs": [
        {
          "output_type": "execute_result",
          "data": {
            "text/plain": [
              "(6782,)"
            ]
          },
          "metadata": {},
          "execution_count": 66
        }
      ]
    },
    {
      "cell_type": "code",
      "source": [
        "X_train_tfidf.shape"
      ],
      "metadata": {
        "colab": {
          "base_uri": "https://localhost:8080/"
        },
        "id": "zhsvx82JRN6J",
        "outputId": "09b63355-320a-40dd-9891-99b954423abf"
      },
      "execution_count": null,
      "outputs": [
        {
          "output_type": "execute_result",
          "data": {
            "text/plain": [
              "(3900, 5912)"
            ]
          },
          "metadata": {},
          "execution_count": 67
        }
      ]
    },
    {
      "cell_type": "code",
      "source": [
        "X_test_tfidf.shape"
      ],
      "metadata": {
        "colab": {
          "base_uri": "https://localhost:8080/"
        },
        "id": "a5IAtHPzQ00H",
        "outputId": "69842c34-b6f7-4ee0-a1d7-f308124ebcb4"
      },
      "execution_count": null,
      "outputs": [
        {
          "output_type": "execute_result",
          "data": {
            "text/plain": [
              "(1672, 5912)"
            ]
          },
          "metadata": {},
          "execution_count": 68
        }
      ]
    },
    {
      "cell_type": "code",
      "source": [
        "# Create a Random Forest Classifier object\n",
        "rf_classifier = RandomForestClassifier(n_estimators=100, random_state=42)\n",
        "\n",
        "# Train the classifier using the training data\n",
        "y_train_pred = rf_classifier.fit(X_train_res, y_train_res)\n",
        "\n",
        "# Make predictions on the test data\n",
        "y_test_pred = rf_classifier.predict(X_test_tfidf)\n"
      ],
      "metadata": {
        "id": "3Mbmv6wmDTi7"
      },
      "execution_count": null,
      "outputs": []
    },
    {
      "cell_type": "markdown",
      "source": [
        "####Model Evaluation"
      ],
      "metadata": {
        "id": "j4XhWB_qW7NT"
      }
    },
    {
      "cell_type": "code",
      "source": [
        "y_train_pred[0]"
      ],
      "metadata": {
        "colab": {
          "base_uri": "https://localhost:8080/",
          "height": 74
        },
        "id": "aH7p47Nsc4ik",
        "outputId": "55251384-5058-49f5-b4b9-c43668aa1b14"
      },
      "execution_count": null,
      "outputs": [
        {
          "output_type": "execute_result",
          "data": {
            "text/plain": [
              "DecisionTreeClassifier(max_features='sqrt', random_state=1608637542)"
            ],
            "text/html": [
              "<style>#sk-container-id-1 {color: black;background-color: white;}#sk-container-id-1 pre{padding: 0;}#sk-container-id-1 div.sk-toggleable {background-color: white;}#sk-container-id-1 label.sk-toggleable__label {cursor: pointer;display: block;width: 100%;margin-bottom: 0;padding: 0.3em;box-sizing: border-box;text-align: center;}#sk-container-id-1 label.sk-toggleable__label-arrow:before {content: \"▸\";float: left;margin-right: 0.25em;color: #696969;}#sk-container-id-1 label.sk-toggleable__label-arrow:hover:before {color: black;}#sk-container-id-1 div.sk-estimator:hover label.sk-toggleable__label-arrow:before {color: black;}#sk-container-id-1 div.sk-toggleable__content {max-height: 0;max-width: 0;overflow: hidden;text-align: left;background-color: #f0f8ff;}#sk-container-id-1 div.sk-toggleable__content pre {margin: 0.2em;color: black;border-radius: 0.25em;background-color: #f0f8ff;}#sk-container-id-1 input.sk-toggleable__control:checked~div.sk-toggleable__content {max-height: 200px;max-width: 100%;overflow: auto;}#sk-container-id-1 input.sk-toggleable__control:checked~label.sk-toggleable__label-arrow:before {content: \"▾\";}#sk-container-id-1 div.sk-estimator input.sk-toggleable__control:checked~label.sk-toggleable__label {background-color: #d4ebff;}#sk-container-id-1 div.sk-label input.sk-toggleable__control:checked~label.sk-toggleable__label {background-color: #d4ebff;}#sk-container-id-1 input.sk-hidden--visually {border: 0;clip: rect(1px 1px 1px 1px);clip: rect(1px, 1px, 1px, 1px);height: 1px;margin: -1px;overflow: hidden;padding: 0;position: absolute;width: 1px;}#sk-container-id-1 div.sk-estimator {font-family: monospace;background-color: #f0f8ff;border: 1px dotted black;border-radius: 0.25em;box-sizing: border-box;margin-bottom: 0.5em;}#sk-container-id-1 div.sk-estimator:hover {background-color: #d4ebff;}#sk-container-id-1 div.sk-parallel-item::after {content: \"\";width: 100%;border-bottom: 1px solid gray;flex-grow: 1;}#sk-container-id-1 div.sk-label:hover label.sk-toggleable__label {background-color: #d4ebff;}#sk-container-id-1 div.sk-serial::before {content: \"\";position: absolute;border-left: 1px solid gray;box-sizing: border-box;top: 0;bottom: 0;left: 50%;z-index: 0;}#sk-container-id-1 div.sk-serial {display: flex;flex-direction: column;align-items: center;background-color: white;padding-right: 0.2em;padding-left: 0.2em;position: relative;}#sk-container-id-1 div.sk-item {position: relative;z-index: 1;}#sk-container-id-1 div.sk-parallel {display: flex;align-items: stretch;justify-content: center;background-color: white;position: relative;}#sk-container-id-1 div.sk-item::before, #sk-container-id-1 div.sk-parallel-item::before {content: \"\";position: absolute;border-left: 1px solid gray;box-sizing: border-box;top: 0;bottom: 0;left: 50%;z-index: -1;}#sk-container-id-1 div.sk-parallel-item {display: flex;flex-direction: column;z-index: 1;position: relative;background-color: white;}#sk-container-id-1 div.sk-parallel-item:first-child::after {align-self: flex-end;width: 50%;}#sk-container-id-1 div.sk-parallel-item:last-child::after {align-self: flex-start;width: 50%;}#sk-container-id-1 div.sk-parallel-item:only-child::after {width: 0;}#sk-container-id-1 div.sk-dashed-wrapped {border: 1px dashed gray;margin: 0 0.4em 0.5em 0.4em;box-sizing: border-box;padding-bottom: 0.4em;background-color: white;}#sk-container-id-1 div.sk-label label {font-family: monospace;font-weight: bold;display: inline-block;line-height: 1.2em;}#sk-container-id-1 div.sk-label-container {text-align: center;}#sk-container-id-1 div.sk-container {/* jupyter's `normalize.less` sets `[hidden] { display: none; }` but bootstrap.min.css set `[hidden] { display: none !important; }` so we also need the `!important` here to be able to override the default hidden behavior on the sphinx rendered scikit-learn.org. See: https://github.com/scikit-learn/scikit-learn/issues/21755 */display: inline-block !important;position: relative;}#sk-container-id-1 div.sk-text-repr-fallback {display: none;}</style><div id=\"sk-container-id-1\" class=\"sk-top-container\"><div class=\"sk-text-repr-fallback\"><pre>DecisionTreeClassifier(max_features=&#x27;sqrt&#x27;, random_state=1608637542)</pre><b>In a Jupyter environment, please rerun this cell to show the HTML representation or trust the notebook. <br />On GitHub, the HTML representation is unable to render, please try loading this page with nbviewer.org.</b></div><div class=\"sk-container\" hidden><div class=\"sk-item\"><div class=\"sk-estimator sk-toggleable\"><input class=\"sk-toggleable__control sk-hidden--visually\" id=\"sk-estimator-id-1\" type=\"checkbox\" checked><label for=\"sk-estimator-id-1\" class=\"sk-toggleable__label sk-toggleable__label-arrow\">DecisionTreeClassifier</label><div class=\"sk-toggleable__content\"><pre>DecisionTreeClassifier(max_features=&#x27;sqrt&#x27;, random_state=1608637542)</pre></div></div></div></div></div>"
            ]
          },
          "metadata": {},
          "execution_count": 70
        }
      ]
    },
    {
      "cell_type": "code",
      "source": [
        "#testing prediction\n",
        "tst_accuracy = accuracy_score(y_test , y_test_pred)\n",
        "print('test accuracy (Balanced Data): ' , tst_accuracy)"
      ],
      "metadata": {
        "colab": {
          "base_uri": "https://localhost:8080/"
        },
        "id": "E8xN5KAGXOs1",
        "outputId": "6a38e831-e9a2-4dad-fedb-0d54e9175427"
      },
      "execution_count": null,
      "outputs": [
        {
          "output_type": "stream",
          "name": "stdout",
          "text": [
            "test accuracy (Balanced Data):  0.97188995215311\n"
          ]
        }
      ]
    },
    {
      "cell_type": "markdown",
      "source": [
        "'TN , FP'\n",
        "\n",
        "'FN , TP'\n",
        "\n",
        "'TN: correctly predicted as the negative class'\n",
        "\n",
        "'FP: incorrectly predicted as the positive class'\n",
        "\n",
        "'FN: incorrectly predicted as the negative class'\n",
        "\n",
        "'TP: correctly predicted as the positive class'"
      ],
      "metadata": {
        "id": "9ORhNyukA6fP"
      }
    },
    {
      "cell_type": "code",
      "source": [
        "confusion_matrix(y_test, y_test_pred)\n"
      ],
      "metadata": {
        "colab": {
          "base_uri": "https://localhost:8080/"
        },
        "id": "H9J0VwyEXaC8",
        "outputId": "b6cd9d24-344f-4925-c0e1-f5bfd807f1f7"
      },
      "execution_count": null,
      "outputs": [
        {
          "output_type": "execute_result",
          "data": {
            "text/plain": [
              "array([[1434,    0],\n",
              "       [  47,  191]])"
            ]
          },
          "metadata": {},
          "execution_count": 73
        }
      ]
    },
    {
      "cell_type": "code",
      "source": [
        "from sklearn.metrics import f1_score\n"
      ],
      "metadata": {
        "id": "AlQLuFVcD9oE"
      },
      "execution_count": null,
      "outputs": []
    },
    {
      "cell_type": "markdown",
      "source": [
        "###imbalanced data"
      ],
      "metadata": {
        "id": "b9_M0Z7Lgmvq"
      }
    },
    {
      "cell_type": "code",
      "source": [
        "# Create a Random Forest Classifier object\n",
        "rf_classifier_imbal = RandomForestClassifier(n_estimators=100, random_state=42)\n",
        "\n",
        "# Train the classifier using the imbalanced training data\n",
        "y_train_pred_imbal = rf_classifier_imbal.fit(X_train_tfidf, y_train)\n",
        "\n",
        "# Make predictions on the test data\n",
        "y_test_pred_imbal = rf_classifier_imbal.predict(X_test_tfidf)"
      ],
      "metadata": {
        "id": "l1lVAGNCgpy0"
      },
      "execution_count": null,
      "outputs": []
    },
    {
      "cell_type": "markdown",
      "source": [
        "####Model Evaluation"
      ],
      "metadata": {
        "id": "NHj67GTHhmPd"
      }
    },
    {
      "cell_type": "code",
      "source": [
        "y_train.shape"
      ],
      "metadata": {
        "colab": {
          "base_uri": "https://localhost:8080/"
        },
        "id": "g52QvV_3iLBM",
        "outputId": "f2264885-9c02-4425-ee4e-ddae5cb3b190"
      },
      "execution_count": null,
      "outputs": [
        {
          "output_type": "execute_result",
          "data": {
            "text/plain": [
              "(3900,)"
            ]
          },
          "metadata": {},
          "execution_count": 75
        }
      ]
    },
    {
      "cell_type": "code",
      "source": [
        "y_test_pred_imbal.shape"
      ],
      "metadata": {
        "colab": {
          "base_uri": "https://localhost:8080/"
        },
        "id": "NiTNymEDiOth",
        "outputId": "183a73c3-1e7b-4dc4-ed95-32b966f20cbe"
      },
      "execution_count": null,
      "outputs": [
        {
          "output_type": "execute_result",
          "data": {
            "text/plain": [
              "(1672,)"
            ]
          },
          "metadata": {},
          "execution_count": 76
        }
      ]
    },
    {
      "cell_type": "code",
      "source": [
        "#testing prediction\n",
        "tst_accuracy_imbal = accuracy_score(y_test , y_test_pred_imbal)\n",
        "print('test accuracy(ImBalanced Data): ' , tst_accuracy_imbal)"
      ],
      "metadata": {
        "colab": {
          "base_uri": "https://localhost:8080/"
        },
        "id": "oFGb6dEkhlh6",
        "outputId": "e2e30520-650a-470d-a16d-ff6da7bc523a"
      },
      "execution_count": null,
      "outputs": [
        {
          "output_type": "stream",
          "name": "stdout",
          "text": [
            "test accuracy(ImBalanced Data):  0.9677033492822966\n"
          ]
        }
      ]
    },
    {
      "cell_type": "code",
      "source": [],
      "metadata": {
        "colab": {
          "base_uri": "https://localhost:8080/"
        },
        "id": "UEeTJTwGEXD-",
        "outputId": "476b7d01-7768-4f46-b730-27d3edae4d78"
      },
      "execution_count": null,
      "outputs": [
        {
          "output_type": "execute_result",
          "data": {
            "text/plain": [
              "0.8726415094339623"
            ]
          },
          "metadata": {},
          "execution_count": 86
        }
      ]
    },
    {
      "cell_type": "markdown",
      "source": [
        "### Balanced VS. Imbalanced"
      ],
      "metadata": {
        "id": "94xynlEsjQig"
      }
    },
    {
      "cell_type": "code",
      "source": [
        "Accu_bal.append(tst_accuracy)\n",
        "Accu_imbal.append(tst_accuracy_imbal)\n"
      ],
      "metadata": {
        "id": "BWSszWBadxOz"
      },
      "execution_count": null,
      "outputs": []
    },
    {
      "cell_type": "code",
      "source": [
        "print('test accuracy(ImBalanced Data): ' , tst_accuracy_imbal)\n",
        "print('test accuracy (Balanced Data):  ' , tst_accuracy)"
      ],
      "metadata": {
        "colab": {
          "base_uri": "https://localhost:8080/"
        },
        "id": "44sgVcppio_g",
        "outputId": "79c56f84-85b7-4052-9cdb-b677a0aeb670"
      },
      "execution_count": null,
      "outputs": [
        {
          "output_type": "stream",
          "name": "stdout",
          "text": [
            "test accuracy(ImBalanced Data):  0.9677033492822966\n",
            "test accuracy (Balanced Data):   0.97188995215311\n"
          ]
        }
      ]
    },
    {
      "cell_type": "code",
      "source": [
        "print('Imbalanced : \\n',classification_report(y_test,y_test_pred_imbal))"
      ],
      "metadata": {
        "colab": {
          "base_uri": "https://localhost:8080/"
        },
        "id": "kIb348KYjhFB",
        "outputId": "9ab9127e-66c1-4f2e-ff71-81a7713d5896"
      },
      "execution_count": null,
      "outputs": [
        {
          "output_type": "stream",
          "name": "stdout",
          "text": [
            "Imbalanced : \n",
            "               precision    recall  f1-score   support\n",
            "\n",
            "           0       0.96      1.00      0.98      1434\n",
            "           1       0.99      0.78      0.87       238\n",
            "\n",
            "    accuracy                           0.97      1672\n",
            "   macro avg       0.98      0.89      0.93      1672\n",
            "weighted avg       0.97      0.97      0.97      1672\n",
            "\n"
          ]
        }
      ]
    },
    {
      "cell_type": "code",
      "source": [
        "print('Balanced : \\n',classification_report(y_test,y_test_pred))"
      ],
      "metadata": {
        "colab": {
          "base_uri": "https://localhost:8080/"
        },
        "id": "2yp5_fBuj8gV",
        "outputId": "ab2b6a9a-294a-412f-81af-779bc6d80d2c"
      },
      "execution_count": null,
      "outputs": [
        {
          "output_type": "stream",
          "name": "stdout",
          "text": [
            "Balanced : \n",
            "               precision    recall  f1-score   support\n",
            "\n",
            "           0       0.97      1.00      0.98      1434\n",
            "           1       1.00      0.80      0.89       238\n",
            "\n",
            "    accuracy                           0.97      1672\n",
            "   macro avg       0.98      0.90      0.94      1672\n",
            "weighted avg       0.97      0.97      0.97      1672\n",
            "\n"
          ]
        }
      ]
    },
    {
      "cell_type": "code",
      "source": [
        "print('f1 score balanced data: ', f1_score(y_test, y_test_pred))\n",
        "print ('f1 score imbalanced data: ' ,f1_score(y_test , y_test_pred_imbal))"
      ],
      "metadata": {
        "colab": {
          "base_uri": "https://localhost:8080/"
        },
        "id": "0TR5DyB7E2Bh",
        "outputId": "022a9982-74d1-476a-e1cc-2d1879b1561d"
      },
      "execution_count": null,
      "outputs": [
        {
          "output_type": "stream",
          "name": "stdout",
          "text": [
            "f1 score balanced data:  0.8904428904428905\n",
            "f1 score imbalanced data:  0.8726415094339623\n"
          ]
        }
      ]
    },
    {
      "cell_type": "markdown",
      "source": [
        "##LogisticRegression"
      ],
      "metadata": {
        "id": "SAgwFrKhCo5t"
      }
    },
    {
      "cell_type": "markdown",
      "source": [
        "###Balanced dataset"
      ],
      "metadata": {
        "id": "hSe30ET0la-7"
      }
    },
    {
      "cell_type": "code",
      "source": [
        "# create logistic regression object\n",
        "reg = LogisticRegression()\n",
        "\n",
        "# train the model using the training sets\n",
        "y_train_pred_LR = reg.fit(X_train_res, y_train_res)\n",
        "\n",
        "# making predictions on the testing set\n",
        "y_test_pred_LR = reg.predict(X_test_tfidf)"
      ],
      "metadata": {
        "id": "PliS3Y3olh1h"
      },
      "execution_count": null,
      "outputs": []
    },
    {
      "cell_type": "markdown",
      "source": [
        "####Model Evaluation"
      ],
      "metadata": {
        "id": "b18xzq4ClhJx"
      }
    },
    {
      "cell_type": "code",
      "source": [
        "#testing prediction\n",
        "tst_accuracy_LR = accuracy_score(y_test , y_test_pred_LR)\n",
        "print('test accuracy (Balanced Data): ' , tst_accuracy_LR)"
      ],
      "metadata": {
        "colab": {
          "base_uri": "https://localhost:8080/"
        },
        "id": "J2fWWSTQlaQ2",
        "outputId": "73b29247-d833-42d9-d28d-43bd1c59ec14"
      },
      "execution_count": null,
      "outputs": [
        {
          "output_type": "stream",
          "name": "stdout",
          "text": [
            "test accuracy (Balanced Data):  0.9748803827751196\n"
          ]
        }
      ]
    },
    {
      "cell_type": "code",
      "source": [
        "confusion_matrix(y_test, y_test_pred_LR)\n"
      ],
      "metadata": {
        "colab": {
          "base_uri": "https://localhost:8080/"
        },
        "id": "K9OuYfuavtZX",
        "outputId": "6110d2d9-ea28-4d84-8ee3-f68948d56d64"
      },
      "execution_count": null,
      "outputs": [
        {
          "output_type": "execute_result",
          "data": {
            "text/plain": [
              "array([[1417,   17],\n",
              "       [  25,  213]])"
            ]
          },
          "metadata": {},
          "execution_count": 84
        }
      ]
    },
    {
      "cell_type": "markdown",
      "source": [
        "###Imbalanced dataset"
      ],
      "metadata": {
        "id": "nz7Hi3jHlnwf"
      }
    },
    {
      "cell_type": "code",
      "source": [
        "# create logistic regression object\n",
        "reg_Imbal = LogisticRegression()\n",
        "\n",
        "# train the model using the training sets\n",
        "y_train_pred_LR_Imbal = reg_Imbal.fit(X_train_tfidf, y_train)\n",
        "\n",
        "# making predictions on the testing set\n",
        "y_test_pred_LR_Imbal = reg_Imbal.predict(X_test_tfidf)\n",
        "\n"
      ],
      "metadata": {
        "id": "9kU1JP5JlsMa"
      },
      "execution_count": null,
      "outputs": []
    },
    {
      "cell_type": "markdown",
      "source": [
        "####Model Evaluation"
      ],
      "metadata": {
        "id": "fWOoxQqllsvC"
      }
    },
    {
      "cell_type": "code",
      "source": [
        "#testing prediction\n",
        "tst_accuracy_LR_Imbal = accuracy_score(y_test , y_test_pred_LR_Imbal)\n",
        "print('test accuracy (ImBalanced Data): ' , tst_accuracy_LR_Imbal)"
      ],
      "metadata": {
        "colab": {
          "base_uri": "https://localhost:8080/"
        },
        "id": "2W-1zsf_wS0i",
        "outputId": "d0d88a59-931e-4189-ac5b-92e47c9c5730"
      },
      "execution_count": null,
      "outputs": [
        {
          "output_type": "stream",
          "name": "stdout",
          "text": [
            "test accuracy (ImBalanced Data):  0.9563397129186603\n"
          ]
        }
      ]
    },
    {
      "cell_type": "code",
      "source": [
        "confusion_matrix(y_test, y_test_pred_LR_Imbal)"
      ],
      "metadata": {
        "colab": {
          "base_uri": "https://localhost:8080/"
        },
        "id": "c_BlouOkwkrT",
        "outputId": "152f0574-eb0e-4cde-cd84-a04544115c24"
      },
      "execution_count": null,
      "outputs": [
        {
          "output_type": "execute_result",
          "data": {
            "text/plain": [
              "array([[1430,    4],\n",
              "       [  69,  169]])"
            ]
          },
          "metadata": {},
          "execution_count": 94
        }
      ]
    },
    {
      "cell_type": "markdown",
      "source": [
        "###Balanced vs Imbalanced"
      ],
      "metadata": {
        "id": "DNZCC_N0ly0f"
      }
    },
    {
      "cell_type": "code",
      "source": [
        "Accu_bal.append(tst_accuracy_LR)\n",
        "Accu_imbal.append(tst_accuracy_LR_Imbal)"
      ],
      "metadata": {
        "id": "jkMW_6Rxe3wd"
      },
      "execution_count": null,
      "outputs": []
    },
    {
      "cell_type": "code",
      "source": [
        "print('test accuracy LR (ImBalanced Data): ' , tst_accuracy_LR_Imbal)\n",
        "print('test accuracy LR (Balanced Data):   ' , tst_accuracy_LR)"
      ],
      "metadata": {
        "colab": {
          "base_uri": "https://localhost:8080/"
        },
        "id": "XhYVyUtymAK5",
        "outputId": "8b4012f1-3876-4356-e32a-eb6d90e799ba"
      },
      "execution_count": null,
      "outputs": [
        {
          "output_type": "stream",
          "name": "stdout",
          "text": [
            "test accuracy LR (ImBalanced Data):  0.9563397129186603\n",
            "test accuracy LR (Balanced Data):    0.9748803827751196\n"
          ]
        }
      ]
    },
    {
      "cell_type": "code",
      "source": [
        "print('f1 score balanced data: ', f1_score(y_test,y_test_pred_LR))\n",
        "print ('f1 score imbalanced data: ' ,f1_score(y_test , y_test_pred_LR_Imbal))"
      ],
      "metadata": {
        "colab": {
          "base_uri": "https://localhost:8080/"
        },
        "id": "newgdpM8FolK",
        "outputId": "e23ab10a-2266-47d7-f26c-24e2b4a78f80"
      },
      "execution_count": null,
      "outputs": [
        {
          "output_type": "stream",
          "name": "stdout",
          "text": [
            "f1 score balanced data:  0.9102564102564102\n",
            "f1 score imbalanced data:  0.8223844282238444\n"
          ]
        }
      ]
    },
    {
      "cell_type": "code",
      "source": [
        "print('Imbalanced : \\n',classification_report(y_test,y_test_pred_LR_Imbal))"
      ],
      "metadata": {
        "colab": {
          "base_uri": "https://localhost:8080/"
        },
        "id": "pFXgj6JSxUL_",
        "outputId": "c4817271-d946-44a3-ab55-8bc2279da442"
      },
      "execution_count": null,
      "outputs": [
        {
          "output_type": "stream",
          "name": "stdout",
          "text": [
            "Imbalanced : \n",
            "               precision    recall  f1-score   support\n",
            "\n",
            "           0       0.95      1.00      0.98      1434\n",
            "           1       0.98      0.71      0.82       238\n",
            "\n",
            "    accuracy                           0.96      1672\n",
            "   macro avg       0.97      0.85      0.90      1672\n",
            "weighted avg       0.96      0.96      0.95      1672\n",
            "\n"
          ]
        }
      ]
    },
    {
      "cell_type": "code",
      "source": [
        "print('balanced : \\n',classification_report(y_test,y_test_pred_LR))"
      ],
      "metadata": {
        "colab": {
          "base_uri": "https://localhost:8080/"
        },
        "id": "aVhG9JStxhEZ",
        "outputId": "997c34a0-1eee-4d77-d8c5-50c0a0e1961c"
      },
      "execution_count": null,
      "outputs": [
        {
          "output_type": "stream",
          "name": "stdout",
          "text": [
            "balanced : \n",
            "               precision    recall  f1-score   support\n",
            "\n",
            "           0       0.98      0.99      0.99      1434\n",
            "           1       0.93      0.89      0.91       238\n",
            "\n",
            "    accuracy                           0.97      1672\n",
            "   macro avg       0.95      0.94      0.95      1672\n",
            "weighted avg       0.97      0.97      0.97      1672\n",
            "\n"
          ]
        }
      ]
    },
    {
      "cell_type": "markdown",
      "source": [
        "##SVM"
      ],
      "metadata": {
        "id": "f6-mjCOkx6_m"
      }
    },
    {
      "cell_type": "code",
      "source": [
        "from sklearn.svm import SVC"
      ],
      "metadata": {
        "id": "p3BVAEExywxo"
      },
      "execution_count": null,
      "outputs": []
    },
    {
      "cell_type": "markdown",
      "source": [
        "###Balanced"
      ],
      "metadata": {
        "id": "vJlue3arx_ef"
      }
    },
    {
      "cell_type": "code",
      "source": [
        "#Build the model\n",
        "svm = SVC(kernel=\"rbf\", gamma=0.5, C=1.0)\n",
        "# Trained the model\n",
        "y_tr_pred_SVM =svm.fit(X_train_res, y_train_res)\n",
        "\n",
        "# making predictions on the testing set\n",
        "y_test_pred_SVM = svm.predict(X_test_tfidf)"
      ],
      "metadata": {
        "id": "Bl4y6Wiwyy9S"
      },
      "execution_count": null,
      "outputs": []
    },
    {
      "cell_type": "markdown",
      "source": [
        "####Model Evaluation"
      ],
      "metadata": {
        "id": "LclGtZVWyDHg"
      }
    },
    {
      "cell_type": "code",
      "source": [
        "#testing prediction\n",
        "tst_accuracy_SVM = accuracy_score(y_test , y_test_pred_SVM)\n",
        "print('test accuracy SVM (Balanced Data): ' , tst_accuracy_SVM)"
      ],
      "metadata": {
        "colab": {
          "base_uri": "https://localhost:8080/"
        },
        "id": "b2Y4wldPzKnc",
        "outputId": "34f4fdd8-b247-4fb3-c209-8c51f7062b98"
      },
      "execution_count": null,
      "outputs": [
        {
          "output_type": "stream",
          "name": "stdout",
          "text": [
            "test accuracy SVM (Balanced Data):  0.9748803827751196\n"
          ]
        }
      ]
    },
    {
      "cell_type": "code",
      "source": [
        "confusion_matrix(y_test, y_test_pred_SVM)"
      ],
      "metadata": {
        "colab": {
          "base_uri": "https://localhost:8080/"
        },
        "id": "QXL2t4kZ1nhL",
        "outputId": "3448ba06-45a3-47bb-8b99-0637d1d7adbc"
      },
      "execution_count": null,
      "outputs": [
        {
          "output_type": "execute_result",
          "data": {
            "text/plain": [
              "array([[1419,   15],\n",
              "       [  27,  211]])"
            ]
          },
          "metadata": {},
          "execution_count": 104
        }
      ]
    },
    {
      "cell_type": "markdown",
      "source": [
        "###Imbalanced"
      ],
      "metadata": {
        "id": "chcD1J_hyGrY"
      }
    },
    {
      "cell_type": "code",
      "source": [
        "#Build the model\n",
        "svm_ = SVC(kernel=\"rbf\", gamma=0.5, C=1.0)\n",
        "# Trained the model\n",
        "y_tr_pred_SVM_Imbal =svm_.fit(X_train_tfidf, y_train)\n",
        "\n",
        "# making predictions on the testing set\n",
        "y_test_pred_SVM_Imbal = svm_.predict(X_test_tfidf)"
      ],
      "metadata": {
        "id": "YsLRomVI1E0V"
      },
      "execution_count": null,
      "outputs": []
    },
    {
      "cell_type": "markdown",
      "source": [
        "####Model Evaluation"
      ],
      "metadata": {
        "id": "278CClbtyLtP"
      }
    },
    {
      "cell_type": "code",
      "source": [
        "#testing prediction\n",
        "tst_accuracy_SVM_Imbal = accuracy_score(y_test , y_test_pred_SVM_Imbal)\n",
        "print('test accuracy SVM (ImBalanced Data): ' , tst_accuracy_SVM_Imbal)"
      ],
      "metadata": {
        "colab": {
          "base_uri": "https://localhost:8080/"
        },
        "id": "hXHU9TXN1VqZ",
        "outputId": "074fa2c4-2eef-4865-d2cc-5b2394374528"
      },
      "execution_count": null,
      "outputs": [
        {
          "output_type": "stream",
          "name": "stdout",
          "text": [
            "test accuracy SVM (ImBalanced Data):  0.9736842105263158\n"
          ]
        }
      ]
    },
    {
      "cell_type": "code",
      "source": [
        "confusion_matrix(y_test, y_test_pred_SVM_Imbal)"
      ],
      "metadata": {
        "colab": {
          "base_uri": "https://localhost:8080/"
        },
        "id": "czNtcNhO1wGd",
        "outputId": "96b152bd-24f3-4874-a013-bdec839ee949"
      },
      "execution_count": null,
      "outputs": [
        {
          "output_type": "execute_result",
          "data": {
            "text/plain": [
              "array([[1430,    4],\n",
              "       [  40,  198]])"
            ]
          },
          "metadata": {},
          "execution_count": 107
        }
      ]
    },
    {
      "cell_type": "markdown",
      "source": [
        "###Balanced VS. Imbalanced"
      ],
      "metadata": {
        "id": "xktm8a5RyRVv"
      }
    },
    {
      "cell_type": "code",
      "source": [
        "Accu_bal.append(tst_accuracy_SVM)\n",
        "Accu_imbal.append(tst_accuracy_SVM_Imbal)"
      ],
      "metadata": {
        "id": "NxA7evrjfAqb"
      },
      "execution_count": null,
      "outputs": []
    },
    {
      "cell_type": "code",
      "source": [
        "print('test accuracy SVM (Balanced Data):   ' , tst_accuracy_SVM)\n",
        "print('test accuracy SVM (ImBalanced Data): ' , tst_accuracy_SVM_Imbal)"
      ],
      "metadata": {
        "colab": {
          "base_uri": "https://localhost:8080/"
        },
        "id": "uQKHqdU818SM",
        "outputId": "8a2d5e28-ac42-418a-fe9d-7af8cc550011"
      },
      "execution_count": null,
      "outputs": [
        {
          "output_type": "stream",
          "name": "stdout",
          "text": [
            "test accuracy SVM (Balanced Data):    0.9748803827751196\n",
            "test accuracy SVM (ImBalanced Data):  0.9736842105263158\n"
          ]
        }
      ]
    },
    {
      "cell_type": "code",
      "source": [
        "print('f1 score balanced data: ', f1_score(y_test, y_test_pred_SVM))\n",
        "print ('f1 score imbalanced data: ' ,f1_score(y_test, y_test_pred_SVM_Imbal))"
      ],
      "metadata": {
        "colab": {
          "base_uri": "https://localhost:8080/"
        },
        "id": "3V1bYzjOGVVG",
        "outputId": "ea897872-11e5-49ea-dbaf-d1c559b5a4b5"
      },
      "execution_count": null,
      "outputs": [
        {
          "output_type": "stream",
          "name": "stdout",
          "text": [
            "f1 score balanced data:  0.9094827586206897\n",
            "f1 score imbalanced data:  0.9\n"
          ]
        }
      ]
    },
    {
      "cell_type": "code",
      "source": [
        "print('Balanced : \\n',classification_report(y_test,y_test_pred_SVM))"
      ],
      "metadata": {
        "colab": {
          "base_uri": "https://localhost:8080/"
        },
        "id": "zeUvCOfs2Pf8",
        "outputId": "cd2a4eab-1efc-4b73-9f88-30a0d816651e"
      },
      "execution_count": null,
      "outputs": [
        {
          "output_type": "stream",
          "name": "stdout",
          "text": [
            "Balanced : \n",
            "               precision    recall  f1-score   support\n",
            "\n",
            "           0       0.98      0.99      0.99      1434\n",
            "           1       0.93      0.89      0.91       238\n",
            "\n",
            "    accuracy                           0.97      1672\n",
            "   macro avg       0.96      0.94      0.95      1672\n",
            "weighted avg       0.97      0.97      0.97      1672\n",
            "\n"
          ]
        }
      ]
    },
    {
      "cell_type": "code",
      "source": [
        "print('Imbalanced : \\n',classification_report(y_test,y_test_pred_SVM_Imbal))"
      ],
      "metadata": {
        "colab": {
          "base_uri": "https://localhost:8080/"
        },
        "id": "gYj2IBQR2GFl",
        "outputId": "8e677f12-da83-479a-cd4f-71c2e42bea17"
      },
      "execution_count": null,
      "outputs": [
        {
          "output_type": "stream",
          "name": "stdout",
          "text": [
            "Imbalanced : \n",
            "               precision    recall  f1-score   support\n",
            "\n",
            "           0       0.97      1.00      0.98      1434\n",
            "           1       0.98      0.83      0.90       238\n",
            "\n",
            "    accuracy                           0.97      1672\n",
            "   macro avg       0.98      0.91      0.94      1672\n",
            "weighted avg       0.97      0.97      0.97      1672\n",
            "\n"
          ]
        }
      ]
    },
    {
      "cell_type": "markdown",
      "source": [
        "# Conclusion"
      ],
      "metadata": {
        "id": "qR5t170AdUmn"
      }
    },
    {
      "cell_type": "code",
      "source": [
        "model_labels = [ 'Random Forest','Logistic Regression', 'SVM']\n",
        "data = list(zip(Accu_bal, Accu_imbal))\n",
        "\n",
        "ACC_df = pd.DataFrame(data, index = model_labels, columns = [ 'Balanced Accuracy', 'Imbalanced Accuracy'])\n",
        "\n",
        "print(ACC_df)"
      ],
      "metadata": {
        "colab": {
          "base_uri": "https://localhost:8080/"
        },
        "id": "boru2KKxdakW",
        "outputId": "ee1b7e07-0d2b-4e2c-c89b-169a7000ea98"
      },
      "execution_count": null,
      "outputs": [
        {
          "output_type": "stream",
          "name": "stdout",
          "text": [
            "                     Balanced Accuracy  Imbalanced Accuracy\n",
            "Random Forest                  0.97189             0.967703\n",
            "Logistic Regression            0.97488             0.956340\n",
            "SVM                            0.97488             0.973684\n"
          ]
        }
      ]
    },
    {
      "cell_type": "markdown",
      "source": [
        "**The Support Vector Machine (SVM) model**\n",
        "\n",
        "demonstrated exceptional performance on both the imbalanced and balanced datasets, achieving an impressive accuracy rate of approximately 97%."
      ],
      "metadata": {
        "id": "GEU0swTxupmB"
      }
    },
    {
      "cell_type": "markdown",
      "source": [
        "**Balanced dataset Vs. Imbalanced dataset**\n",
        "\n",
        "When comparing imbalanced and balanced datasets in the context of model training, it was observed that all the models showed improvement when trained with the balanced dataset. However, the extent of improvement varied among the models.\n",
        "\n",
        "\n",
        "It's worth noting that while all the models improved with the balanced dataset, the amount of improvement differed. Some models showed a larger boost in performance compared to others like Logistic Regression model. This variation implies that the impact of balancing the dataset may depend on the specific characteristics of the models and the data being used."
      ],
      "metadata": {
        "id": "DR5hDHC-Ip5O"
      }
    },
    {
      "cell_type": "markdown",
      "source": [
        "**Prioritizing higher precision over recall**\n",
        "\n",
        "In our scenario of classifying spam and ham SMS messages, prioritizing higher precision over recall is important. High precision models have a lower chance of misclassifying ham messages as spam, even though they may occasionally classify spam as ham. This prevents the loss of valuable information from important ham messages, outweighing the risk of misclassifying some spam messages."
      ],
      "metadata": {
        "id": "yhKe6nv7I9mC"
      }
    }
  ]
}